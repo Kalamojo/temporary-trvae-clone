{
 "cells": [
  {
   "cell_type": "code",
   "execution_count": 1,
   "metadata": {},
   "outputs": [],
   "source": [
    "import os\n",
    "os.chdir(\"../\")"
   ]
  },
  {
   "cell_type": "code",
   "execution_count": 2,
   "metadata": {},
   "outputs": [],
   "source": [
    "import time "
   ]
  },
  {
   "cell_type": "markdown",
   "metadata": {},
   "source": [
    "## trVAE"
   ]
  },
  {
   "cell_type": "code",
   "execution_count": 3,
   "metadata": {},
   "outputs": [
    {
     "name": "stdout",
     "output_type": "stream",
     "text": [
      "Time: 448.5434465408325s\n"
     ]
    }
   ],
   "source": [
    "start = time.time()\n",
    "stream = os.system(\"CUDA_VISIBLE_DEVICES=0 python -m scripts.train_trVAE kang NK\")\n",
    "end = time.time()\n",
    "print(f\"Time: {end - start}s\")"
   ]
  },
  {
   "cell_type": "code",
   "execution_count": 10,
   "metadata": {},
   "outputs": [
    {
     "name": "stdout",
     "output_type": "stream",
     "text": [
      "Time: 103.36578607559204s\n"
     ]
    }
   ],
   "source": [
    "start = time.time()\n",
    "stream = os.system(\"CUDA_VISIBLE_DEVICES=0 python -m scripts.train_trVAE haber TA\")\n",
    "end = time.time()\n",
    "print(f\"Time: {end - start}s\")"
   ]
  },
  {
   "cell_type": "markdown",
   "metadata": {},
   "source": [
    "## CVAE"
   ]
  },
  {
   "cell_type": "code",
   "execution_count": 4,
   "metadata": {},
   "outputs": [
    {
     "name": "stdout",
     "output_type": "stream",
     "text": [
      "Time: 1475.5426824092865s\n"
     ]
    }
   ],
   "source": [
    "start = time.time()\n",
    "stream = os.system(\"CUDA_VISIBLE_DEVICES=0 python -m scripts.train_cvae kang NK\")\n",
    "end = time.time()\n",
    "print(f\"Time: {end - start}s\")"
   ]
  },
  {
   "cell_type": "code",
   "execution_count": 11,
   "metadata": {},
   "outputs": [
    {
     "name": "stdout",
     "output_type": "stream",
     "text": [
      "Time: 670.0457782745361s\n"
     ]
    }
   ],
   "source": [
    "start = time.time()\n",
    "stream = os.system(\"CUDA_VISIBLE_DEVICES=0 python -m scripts.train_cvae haber TA\")\n",
    "end = time.time()\n",
    "print(f\"Time: {end - start}s\")"
   ]
  },
  {
   "cell_type": "markdown",
   "metadata": {},
   "source": [
    "## scVI"
   ]
  },
  {
   "cell_type": "code",
   "execution_count": 5,
   "metadata": {},
   "outputs": [
    {
     "name": "stdout",
     "output_type": "stream",
     "text": [
      "Time: 1178.6333022117615s\n"
     ]
    }
   ],
   "source": [
    "start = time.time()\n",
    "stream = os.system(\"CUDA_VISIBLE_DEVICES=0 python -m scripts.train_scVI kang NK\")\n",
    "end = time.time()\n",
    "print(f\"Time: {end - start}s\")"
   ]
  },
  {
   "cell_type": "code",
   "execution_count": 12,
   "metadata": {},
   "outputs": [
    {
     "name": "stdout",
     "output_type": "stream",
     "text": [
      "Time: 486.3835816383362s\n"
     ]
    }
   ],
   "source": [
    "start = time.time()\n",
    "stream = os.system(\"CUDA_VISIBLE_DEVICES=0 python -m scripts.train_scVI haber TA\")\n",
    "end = time.time()\n",
    "print(f\"Time: {end - start}s\")"
   ]
  },
  {
   "cell_type": "markdown",
   "metadata": {},
   "source": [
    "## MMD-CVAE"
   ]
  },
  {
   "cell_type": "code",
   "execution_count": 6,
   "metadata": {},
   "outputs": [
    {
     "name": "stdout",
     "output_type": "stream",
     "text": [
      "Time: 378.72060203552246s\n"
     ]
    }
   ],
   "source": [
    "start = time.time()\n",
    "stream = os.system(\"CUDA_VISIBLE_DEVICES=0 python -m scripts.train_mmdcvae kang NK\")\n",
    "end = time.time()\n",
    "print(f\"Time: {end - start}s\")"
   ]
  },
  {
   "cell_type": "code",
   "execution_count": 13,
   "metadata": {},
   "outputs": [
    {
     "name": "stdout",
     "output_type": "stream",
     "text": [
      "Time: 176.9733967781067s\n"
     ]
    }
   ],
   "source": [
    "start = time.time()\n",
    "stream = os.system(\"CUDA_VISIBLE_DEVICES=0 python -m scripts.train_mmdcvae haber TA\")\n",
    "end = time.time()\n",
    "print(f\"Time: {end - start}s\")"
   ]
  },
  {
   "cell_type": "markdown",
   "metadata": {},
   "source": [
    "## scGen"
   ]
  },
  {
   "cell_type": "code",
   "execution_count": 3,
   "metadata": {},
   "outputs": [
    {
     "name": "stdout",
     "output_type": "stream",
     "text": [
      "Time: 327.75983905792236s\n"
     ]
    }
   ],
   "source": [
    "start = time.time()\n",
    "stream = os.system(\"CUDA_VISIBLE_DEVICES=0 python -m scripts.train_scGen kang NK\")\n",
    "end = time.time()\n",
    "print(f\"Time: {end - start}s\")"
   ]
  },
  {
   "cell_type": "code",
   "execution_count": 4,
   "metadata": {},
   "outputs": [
    {
     "name": "stdout",
     "output_type": "stream",
     "text": [
      "Time: 206.42043781280518s\n"
     ]
    }
   ],
   "source": [
    "start = time.time()\n",
    "stream = os.system(\"CUDA_VISIBLE_DEVICES=0 python -m scripts.train_scGen haber TA\")\n",
    "end = time.time()\n",
    "print(f\"Time: {end - start}s\")"
   ]
  },
  {
   "cell_type": "markdown",
   "metadata": {},
   "source": [
    "## SAUCIE"
   ]
  },
  {
   "cell_type": "code",
   "execution_count": 8,
   "metadata": {},
   "outputs": [
    {
     "name": "stdout",
     "output_type": "stream",
     "text": [
      "Time: 19.073132514953613s\n"
     ]
    }
   ],
   "source": [
    "start = time.time()\n",
    "stream = os.system(\"CUDA_VISIBLE_DEVICES=0 python -m scripts.train_saucie kang NK\")\n",
    "end = time.time()\n",
    "print(f\"Time: {end - start}s\")"
   ]
  },
  {
   "cell_type": "code",
   "execution_count": 15,
   "metadata": {},
   "outputs": [
    {
     "name": "stdout",
     "output_type": "stream",
     "text": [
      "Time: 18.962899684906006s\n"
     ]
    }
   ],
   "source": [
    "start = time.time()\n",
    "stream = os.system(\"CUDA_VISIBLE_DEVICES=0 python -m scripts.train_saucie haber TA\")\n",
    "end = time.time()\n",
    "print(f\"Time: {end - start}s\")"
   ]
  },
  {
   "cell_type": "markdown",
   "metadata": {},
   "source": [
    "## CycleGAN"
   ]
  },
  {
   "cell_type": "code",
   "execution_count": 9,
   "metadata": {},
   "outputs": [
    {
     "name": "stdout",
     "output_type": "stream",
     "text": [
      "Time: 6823.112247943878s\n"
     ]
    }
   ],
   "source": [
    "start = time.time()\n",
    "stream = os.system(\"CUDA_VISIBLE_DEVICES=0 python -m scripts.train_cyclegan kang NK\")\n",
    "end = time.time()\n",
    "print(f\"Time: {end - start}s\")"
   ]
  },
  {
   "cell_type": "code",
   "execution_count": 16,
   "metadata": {},
   "outputs": [
    {
     "name": "stdout",
     "output_type": "stream",
     "text": [
      "Time: 2095.7738761901855s\n"
     ]
    }
   ],
   "source": [
    "start = time.time()\n",
    "stream = os.system(\"CUDA_VISIBLE_DEVICES=0 python -m scripts.train_cyclegan haber TA\")\n",
    "end = time.time()\n",
    "print(f\"Time: {end - start}s\")"
   ]
  }
 ],
 "metadata": {
  "kernelspec": {
   "display_name": "Python 3",
   "language": "python",
   "name": "python3"
  },
  "language_info": {
   "codemirror_mode": {
    "name": "ipython",
    "version": 3
   },
   "file_extension": ".py",
   "mimetype": "text/x-python",
   "name": "python",
   "nbconvert_exporter": "python",
   "pygments_lexer": "ipython3",
   "version": "3.7.6"
  }
 },
 "nbformat": 4,
 "nbformat_minor": 4
}
