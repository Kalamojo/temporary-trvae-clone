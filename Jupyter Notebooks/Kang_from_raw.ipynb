{
 "cells": [
  {
   "cell_type": "markdown",
   "metadata": {},
   "source": [
    "# Kang et. al dataset preparation (From raw data to h5ad)"
   ]
  },
  {
   "cell_type": "code",
   "execution_count": 1,
   "metadata": {},
   "outputs": [],
   "source": [
    "import numpy as np\n",
    "import pandas as pd\n",
    "import scanpy as sc"
   ]
  },
  {
   "cell_type": "code",
   "execution_count": 2,
   "metadata": {},
   "outputs": [],
   "source": [
    "sc.set_figure_params(dpi=200)"
   ]
  },
  {
   "cell_type": "code",
   "execution_count": 3,
   "metadata": {},
   "outputs": [
    {
     "data": {
      "text/html": [
       "<div>\n",
       "<style scoped>\n",
       "    .dataframe tbody tr th:only-of-type {\n",
       "        vertical-align: middle;\n",
       "    }\n",
       "\n",
       "    .dataframe tbody tr th {\n",
       "        vertical-align: top;\n",
       "    }\n",
       "\n",
       "    .dataframe thead th {\n",
       "        text-align: right;\n",
       "    }\n",
       "</style>\n",
       "<table border=\"1\" class=\"dataframe\">\n",
       "  <thead>\n",
       "    <tr style=\"text-align: right;\">\n",
       "      <th></th>\n",
       "      <th>AL627309.1</th>\n",
       "      <th>RP11-206L10.2</th>\n",
       "      <th>LINC00115</th>\n",
       "      <th>NOC2L</th>\n",
       "      <th>KLHL17</th>\n",
       "      <th>PLEKHN1</th>\n",
       "      <th>HES4</th>\n",
       "      <th>ISG15</th>\n",
       "      <th>AGRN</th>\n",
       "      <th>C1orf159</th>\n",
       "      <th>...</th>\n",
       "      <th>AJ006998.2</th>\n",
       "      <th>CHODL</th>\n",
       "      <th>AP000476.1</th>\n",
       "      <th>LINC00158</th>\n",
       "      <th>AF131217.1</th>\n",
       "      <th>AP001437.1</th>\n",
       "      <th>TMPRSS3</th>\n",
       "      <th>AP001626.1</th>\n",
       "      <th>AP001062.7</th>\n",
       "      <th>LRRC3DN</th>\n",
       "    </tr>\n",
       "  </thead>\n",
       "  <tbody>\n",
       "    <tr>\n",
       "      <th>AAACATACATTTCC.1</th>\n",
       "      <td>0</td>\n",
       "      <td>0</td>\n",
       "      <td>0</td>\n",
       "      <td>0</td>\n",
       "      <td>0</td>\n",
       "      <td>0</td>\n",
       "      <td>0</td>\n",
       "      <td>0</td>\n",
       "      <td>0</td>\n",
       "      <td>0</td>\n",
       "      <td>...</td>\n",
       "      <td>0</td>\n",
       "      <td>0</td>\n",
       "      <td>0</td>\n",
       "      <td>0</td>\n",
       "      <td>0</td>\n",
       "      <td>0</td>\n",
       "      <td>0</td>\n",
       "      <td>0</td>\n",
       "      <td>0</td>\n",
       "      <td>0</td>\n",
       "    </tr>\n",
       "    <tr>\n",
       "      <th>AAACATACCAGAAA.1</th>\n",
       "      <td>0</td>\n",
       "      <td>0</td>\n",
       "      <td>0</td>\n",
       "      <td>0</td>\n",
       "      <td>0</td>\n",
       "      <td>0</td>\n",
       "      <td>0</td>\n",
       "      <td>0</td>\n",
       "      <td>0</td>\n",
       "      <td>0</td>\n",
       "      <td>...</td>\n",
       "      <td>0</td>\n",
       "      <td>0</td>\n",
       "      <td>0</td>\n",
       "      <td>0</td>\n",
       "      <td>0</td>\n",
       "      <td>0</td>\n",
       "      <td>0</td>\n",
       "      <td>0</td>\n",
       "      <td>0</td>\n",
       "      <td>0</td>\n",
       "    </tr>\n",
       "    <tr>\n",
       "      <th>AAACATACCTCGCT.1</th>\n",
       "      <td>0</td>\n",
       "      <td>0</td>\n",
       "      <td>0</td>\n",
       "      <td>0</td>\n",
       "      <td>0</td>\n",
       "      <td>0</td>\n",
       "      <td>0</td>\n",
       "      <td>1</td>\n",
       "      <td>0</td>\n",
       "      <td>0</td>\n",
       "      <td>...</td>\n",
       "      <td>0</td>\n",
       "      <td>0</td>\n",
       "      <td>0</td>\n",
       "      <td>0</td>\n",
       "      <td>0</td>\n",
       "      <td>0</td>\n",
       "      <td>0</td>\n",
       "      <td>0</td>\n",
       "      <td>0</td>\n",
       "      <td>0</td>\n",
       "    </tr>\n",
       "    <tr>\n",
       "      <th>AAACATACCTGGTA.1</th>\n",
       "      <td>0</td>\n",
       "      <td>0</td>\n",
       "      <td>0</td>\n",
       "      <td>0</td>\n",
       "      <td>0</td>\n",
       "      <td>0</td>\n",
       "      <td>0</td>\n",
       "      <td>1</td>\n",
       "      <td>0</td>\n",
       "      <td>0</td>\n",
       "      <td>...</td>\n",
       "      <td>0</td>\n",
       "      <td>0</td>\n",
       "      <td>0</td>\n",
       "      <td>0</td>\n",
       "      <td>0</td>\n",
       "      <td>0</td>\n",
       "      <td>0</td>\n",
       "      <td>0</td>\n",
       "      <td>0</td>\n",
       "      <td>0</td>\n",
       "    </tr>\n",
       "    <tr>\n",
       "      <th>AAACATACGATGAA.1</th>\n",
       "      <td>0</td>\n",
       "      <td>0</td>\n",
       "      <td>0</td>\n",
       "      <td>0</td>\n",
       "      <td>0</td>\n",
       "      <td>0</td>\n",
       "      <td>0</td>\n",
       "      <td>0</td>\n",
       "      <td>0</td>\n",
       "      <td>0</td>\n",
       "      <td>...</td>\n",
       "      <td>0</td>\n",
       "      <td>0</td>\n",
       "      <td>0</td>\n",
       "      <td>0</td>\n",
       "      <td>0</td>\n",
       "      <td>0</td>\n",
       "      <td>0</td>\n",
       "      <td>0</td>\n",
       "      <td>0</td>\n",
       "      <td>0</td>\n",
       "    </tr>\n",
       "  </tbody>\n",
       "</table>\n",
       "<p>5 rows × 14053 columns</p>\n",
       "</div>"
      ],
      "text/plain": [
       "                  AL627309.1  RP11-206L10.2  LINC00115  NOC2L  KLHL17  \\\n",
       "AAACATACATTTCC.1           0              0          0      0       0   \n",
       "AAACATACCAGAAA.1           0              0          0      0       0   \n",
       "AAACATACCTCGCT.1           0              0          0      0       0   \n",
       "AAACATACCTGGTA.1           0              0          0      0       0   \n",
       "AAACATACGATGAA.1           0              0          0      0       0   \n",
       "\n",
       "                  PLEKHN1  HES4  ISG15  AGRN  C1orf159  ...  AJ006998.2  \\\n",
       "AAACATACATTTCC.1        0     0      0     0         0  ...           0   \n",
       "AAACATACCAGAAA.1        0     0      0     0         0  ...           0   \n",
       "AAACATACCTCGCT.1        0     0      1     0         0  ...           0   \n",
       "AAACATACCTGGTA.1        0     0      1     0         0  ...           0   \n",
       "AAACATACGATGAA.1        0     0      0     0         0  ...           0   \n",
       "\n",
       "                  CHODL  AP000476.1  LINC00158  AF131217.1  AP001437.1  \\\n",
       "AAACATACATTTCC.1      0           0          0           0           0   \n",
       "AAACATACCAGAAA.1      0           0          0           0           0   \n",
       "AAACATACCTCGCT.1      0           0          0           0           0   \n",
       "AAACATACCTGGTA.1      0           0          0           0           0   \n",
       "AAACATACGATGAA.1      0           0          0           0           0   \n",
       "\n",
       "                  TMPRSS3  AP001626.1  AP001062.7  LRRC3DN  \n",
       "AAACATACATTTCC.1        0           0           0        0  \n",
       "AAACATACCAGAAA.1        0           0           0        0  \n",
       "AAACATACCTCGCT.1        0           0           0        0  \n",
       "AAACATACCTGGTA.1        0           0           0        0  \n",
       "AAACATACGATGAA.1        0           0           0        0  \n",
       "\n",
       "[5 rows x 14053 columns]"
      ]
     },
     "execution_count": 3,
     "metadata": {},
     "output_type": "execute_result"
    }
   ],
   "source": [
    "count_data = pd.read_csv(\"./data/kang/kang_count.csv\")\n",
    "count_data = count_data.transpose()\n",
    "count_data.head()"
   ]
  },
  {
   "cell_type": "code",
   "execution_count": 4,
   "metadata": {},
   "outputs": [
    {
     "data": {
      "text/html": [
       "<div>\n",
       "<style scoped>\n",
       "    .dataframe tbody tr th:only-of-type {\n",
       "        vertical-align: middle;\n",
       "    }\n",
       "\n",
       "    .dataframe tbody tr th {\n",
       "        vertical-align: top;\n",
       "    }\n",
       "\n",
       "    .dataframe thead th {\n",
       "        text-align: right;\n",
       "    }\n",
       "</style>\n",
       "<table border=\"1\" class=\"dataframe\">\n",
       "  <thead>\n",
       "    <tr style=\"text-align: right;\">\n",
       "      <th></th>\n",
       "      <th>orig.ident</th>\n",
       "      <th>nCount_RNA</th>\n",
       "      <th>nFeature_RNA</th>\n",
       "      <th>stim</th>\n",
       "      <th>seurat_annotations</th>\n",
       "      <th>integrated_snn_res.0.5</th>\n",
       "      <th>seurat_clusters</th>\n",
       "    </tr>\n",
       "  </thead>\n",
       "  <tbody>\n",
       "    <tr>\n",
       "      <th>AAACATACATTTCC.1</th>\n",
       "      <td>IMMUNE_CTRL</td>\n",
       "      <td>3017</td>\n",
       "      <td>877</td>\n",
       "      <td>CTRL</td>\n",
       "      <td>CD14 Mono</td>\n",
       "      <td>0</td>\n",
       "      <td>0</td>\n",
       "    </tr>\n",
       "    <tr>\n",
       "      <th>AAACATACCAGAAA.1</th>\n",
       "      <td>IMMUNE_CTRL</td>\n",
       "      <td>2481</td>\n",
       "      <td>713</td>\n",
       "      <td>CTRL</td>\n",
       "      <td>CD14 Mono</td>\n",
       "      <td>0</td>\n",
       "      <td>0</td>\n",
       "    </tr>\n",
       "    <tr>\n",
       "      <th>AAACATACCTCGCT.1</th>\n",
       "      <td>IMMUNE_CTRL</td>\n",
       "      <td>3420</td>\n",
       "      <td>850</td>\n",
       "      <td>CTRL</td>\n",
       "      <td>CD14 Mono</td>\n",
       "      <td>0</td>\n",
       "      <td>0</td>\n",
       "    </tr>\n",
       "    <tr>\n",
       "      <th>AAACATACCTGGTA.1</th>\n",
       "      <td>IMMUNE_CTRL</td>\n",
       "      <td>3156</td>\n",
       "      <td>1109</td>\n",
       "      <td>CTRL</td>\n",
       "      <td>pDC</td>\n",
       "      <td>11</td>\n",
       "      <td>11</td>\n",
       "    </tr>\n",
       "    <tr>\n",
       "      <th>AAACATACGATGAA.1</th>\n",
       "      <td>IMMUNE_CTRL</td>\n",
       "      <td>1868</td>\n",
       "      <td>634</td>\n",
       "      <td>CTRL</td>\n",
       "      <td>CD4 Memory T</td>\n",
       "      <td>2</td>\n",
       "      <td>2</td>\n",
       "    </tr>\n",
       "  </tbody>\n",
       "</table>\n",
       "</div>"
      ],
      "text/plain": [
       "                   orig.ident  nCount_RNA  nFeature_RNA  stim  \\\n",
       "AAACATACATTTCC.1  IMMUNE_CTRL        3017           877  CTRL   \n",
       "AAACATACCAGAAA.1  IMMUNE_CTRL        2481           713  CTRL   \n",
       "AAACATACCTCGCT.1  IMMUNE_CTRL        3420           850  CTRL   \n",
       "AAACATACCTGGTA.1  IMMUNE_CTRL        3156          1109  CTRL   \n",
       "AAACATACGATGAA.1  IMMUNE_CTRL        1868           634  CTRL   \n",
       "\n",
       "                 seurat_annotations  integrated_snn_res.0.5  seurat_clusters  \n",
       "AAACATACATTTCC.1          CD14 Mono                       0                0  \n",
       "AAACATACCAGAAA.1          CD14 Mono                       0                0  \n",
       "AAACATACCTCGCT.1          CD14 Mono                       0                0  \n",
       "AAACATACCTGGTA.1                pDC                      11               11  \n",
       "AAACATACGATGAA.1       CD4 Memory T                       2                2  "
      ]
     },
     "execution_count": 4,
     "metadata": {},
     "output_type": "execute_result"
    }
   ],
   "source": [
    "meta_data = pd.read_csv(\"./data/kang/kang_meta.csv\")\n",
    "meta_data.head()"
   ]
  },
  {
   "cell_type": "code",
   "execution_count": 5,
   "metadata": {},
   "outputs": [
    {
     "data": {
      "text/plain": [
       "AnnData object with n_obs × n_vars = 13999 × 14053 \n",
       "    obs: 'orig.ident', 'nCount_RNA', 'nFeature_RNA', 'stim', 'seurat_annotations', 'integrated_snn_res.0.5', 'seurat_clusters'"
      ]
     },
     "execution_count": 5,
     "metadata": {},
     "output_type": "execute_result"
    }
   ],
   "source": [
    "adata = sc.AnnData(X=count_data)\n",
    "adata.obs = meta_data.copy(deep=True)\n",
    "adata"
   ]
  },
  {
   "cell_type": "code",
   "execution_count": 6,
   "metadata": {},
   "outputs": [
    {
     "data": {
      "text/plain": [
       "View of AnnData object with n_obs × n_vars = 13576 × 14053 \n",
       "    obs: 'orig.ident', 'nCount_RNA', 'nFeature_RNA', 'stim', 'seurat_annotations', 'integrated_snn_res.0.5', 'seurat_clusters'"
      ]
     },
     "execution_count": 6,
     "metadata": {},
     "output_type": "execute_result"
    }
   ],
   "source": [
    "adata = adata[~adata.obs['seurat_annotations'].isin(['Mk', 'pDC', 'Eryth'])]\n",
    "adata"
   ]
  },
  {
   "cell_type": "code",
   "execution_count": 7,
   "metadata": {},
   "outputs": [
    {
     "name": "stderr",
     "output_type": "stream",
     "text": [
      "Trying to set attribute `.obs` of view, making a copy.\n"
     ]
    }
   ],
   "source": [
    "adata.obs['condition'] = adata.obs['stim'].values\n",
    "adata.obs['cell_type'] = adata.obs['seurat_annotations'].values"
   ]
  },
  {
   "cell_type": "code",
   "execution_count": 8,
   "metadata": {},
   "outputs": [],
   "source": [
    "adata.obs['cell_type'] = adata.obs['cell_type'].replace(\"CD4 Naive T\", \"CD4 T\")\n",
    "adata.obs['cell_type'] = adata.obs['cell_type'].replace(\"CD4 Memory T\", \"CD4 T\")\n",
    "adata.obs['cell_type'] = adata.obs['cell_type'].replace(\"T activated\", \"T\")\n",
    "adata.obs['cell_type'] = adata.obs['cell_type'].replace(\"B Activated\", \"B\")"
   ]
  },
  {
   "cell_type": "code",
   "execution_count": 9,
   "metadata": {},
   "outputs": [
    {
     "data": {
      "text/plain": [
       "CD14 Mono    4362\n",
       "CD4 T        4266\n",
       "B            1366\n",
       "CD16 Mono    1044\n",
       "CD8 T         814\n",
       "T             633\n",
       "NK            619\n",
       "DC            472\n",
       "Name: cell_type, dtype: int64"
      ]
     },
     "execution_count": 9,
     "metadata": {},
     "output_type": "execute_result"
    }
   ],
   "source": [
    "adata.obs['cell_type'].value_counts()"
   ]
  },
  {
   "cell_type": "code",
   "execution_count": 10,
   "metadata": {},
   "outputs": [
    {
     "data": {
      "text/plain": [
       "(0.0, 3828.0)"
      ]
     },
     "execution_count": 10,
     "metadata": {},
     "output_type": "execute_result"
    }
   ],
   "source": [
    "adata.X.min(), adata.X.max()"
   ]
  },
  {
   "cell_type": "code",
   "execution_count": 45,
   "metadata": {},
   "outputs": [
    {
     "name": "stderr",
     "output_type": "stream",
     "text": [
      "... storing 'orig.ident' as categorical\n",
      "... storing 'stim' as categorical\n",
      "... storing 'seurat_annotations' as categorical\n",
      "... storing 'condition' as categorical\n",
      "... storing 'cell_type' as categorical\n"
     ]
    }
   ],
   "source": [
    "adata.write_h5ad(\"./data/kang/kang_count.h5ad\")"
   ]
  },
  {
   "cell_type": "code",
   "execution_count": 46,
   "metadata": {},
   "outputs": [],
   "source": [
    "sc.pp.normalize_per_cell(adata)\n",
    "sc.pp.log1p(adata)"
   ]
  },
  {
   "cell_type": "code",
   "execution_count": 49,
   "metadata": {},
   "outputs": [
    {
     "data": {
      "text/plain": [
       "(0.0, 6.941648)"
      ]
     },
     "execution_count": 49,
     "metadata": {},
     "output_type": "execute_result"
    }
   ],
   "source": [
    "adata.X.min(), adata.X.max()"
   ]
  },
  {
   "cell_type": "code",
   "execution_count": 48,
   "metadata": {},
   "outputs": [],
   "source": [
    "adata.write_h5ad(\"./data/kang/kang_normalized.h5ad\")"
   ]
  }
 ],
 "metadata": {
  "kernelspec": {
   "display_name": "Python 3",
   "language": "python",
   "name": "python3"
  },
  "language_info": {
   "codemirror_mode": {
    "name": "ipython",
    "version": 3
   },
   "file_extension": ".py",
   "mimetype": "text/x-python",
   "name": "python",
   "nbconvert_exporter": "python",
   "pygments_lexer": "ipython3",
   "version": "3.6.8"
  }
 },
 "nbformat": 4,
 "nbformat_minor": 2
}
