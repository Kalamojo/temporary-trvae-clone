{
 "cells": [
  {
   "cell_type": "markdown",
   "metadata": {},
   "source": [
    "# Sample Run with DCtrVAE for CelebA dataset"
   ]
  },
  {
   "cell_type": "code",
   "execution_count": 1,
   "metadata": {},
   "outputs": [],
   "source": [
    "import os\n",
    "os.chdir(\"../\")"
   ]
  },
  {
   "cell_type": "code",
   "execution_count": 2,
   "metadata": {},
   "outputs": [
    {
     "name": "stderr",
     "output_type": "stream",
     "text": [
      "Using TensorFlow backend.\n"
     ]
    }
   ],
   "source": [
    "import reptrvae\n",
    "import scanpy as sc\n",
    "import numpy as np\n",
    "import matplotlib.pyplot as plt"
   ]
  },
  {
   "cell_type": "code",
   "execution_count": 3,
   "metadata": {},
   "outputs": [],
   "source": [
    "condition_key = \"condition\"\n",
    "label_key = \"labels\"\n",
    "target_labels = [-1]\n",
    "target_conditions = [1]"
   ]
  },
  {
   "cell_type": "code",
   "execution_count": 12,
   "metadata": {},
   "outputs": [
    {
     "data": {
      "text/plain": [
       "AnnData object with n_obs × n_vars = 50000 × 12288 \n",
       "    obs: 'labels', 'condition'"
      ]
     },
     "execution_count": 12,
     "metadata": {},
     "output_type": "execute_result"
    }
   ],
   "source": [
    "adata = sc.read(\"./data/celeba/celeba_Smiling_64x64_50000.h5ad\")\n",
    "adata"
   ]
  },
  {
   "cell_type": "code",
   "execution_count": 13,
   "metadata": {},
   "outputs": [],
   "source": [
    "adata.X /= 255.0"
   ]
  },
  {
   "cell_type": "code",
   "execution_count": 14,
   "metadata": {},
   "outputs": [
    {
     "data": {
      "text/plain": [
       "(0.0, 1.0)"
      ]
     },
     "execution_count": 14,
     "metadata": {},
     "output_type": "execute_result"
    }
   ],
   "source": [
    "adata.X.min(), adata.X.max()"
   ]
  },
  {
   "cell_type": "code",
   "execution_count": 15,
   "metadata": {},
   "outputs": [
    {
     "data": {
      "text/plain": [
       "((45000, 12288), (5000, 12288))"
      ]
     },
     "execution_count": 15,
     "metadata": {},
     "output_type": "execute_result"
    }
   ],
   "source": [
    "train_adata, valid_adata = reptrvae.utils.train_test_split(adata, 0.90)\n",
    "train_adata.shape, valid_adata.shape"
   ]
  },
  {
   "cell_type": "code",
   "execution_count": 16,
   "metadata": {},
   "outputs": [],
   "source": [
    "net_train_adata = train_adata[~((train_adata.obs[condition_key].isin(target_conditions)) & (train_adata.obs[label_key].isin(target_labels)))]\n",
    "net_valid_adata = valid_adata[~((valid_adata.obs[condition_key].isin(target_conditions)) & (valid_adata.obs[label_key].isin(target_labels)))]"
   ]
  },
  {
   "cell_type": "code",
   "execution_count": 17,
   "metadata": {},
   "outputs": [
    {
     "data": {
      "text/plain": [
       "((30217, 12288), (3309, 12288))"
      ]
     },
     "execution_count": 17,
     "metadata": {},
     "output_type": "execute_result"
    }
   ],
   "source": [
    "net_train_adata.shape, net_valid_adata.shape"
   ]
  },
  {
   "cell_type": "code",
   "execution_count": 18,
   "metadata": {},
   "outputs": [
    {
     "data": {
      "text/plain": [
       "condition  labels\n",
       "-1         -1        11255\n",
       "            1        10802\n",
       " 1          1         8160\n",
       "dtype: int64"
      ]
     },
     "execution_count": 18,
     "metadata": {},
     "output_type": "execute_result"
    }
   ],
   "source": [
    "net_train_adata.obs.groupby([condition_key, label_key]).size()"
   ]
  },
  {
   "cell_type": "code",
   "execution_count": 20,
   "metadata": {},
   "outputs": [],
   "source": [
    "input_shape = (64, 64, 3)\n",
    "n_conditions = len(net_train_adata.obs[condition_key].unique().tolist())"
   ]
  },
  {
   "cell_type": "code",
   "execution_count": 22,
   "metadata": {},
   "outputs": [
    {
     "name": "stdout",
     "output_type": "stream",
     "text": [
      "WARNING:tensorflow:From /home/mohsen/miniconda3/envs/venv/lib/python3.6/site-packages/tensorflow/python/framework/op_def_library.py:263: colocate_with (from tensorflow.python.framework.ops) is deprecated and will be removed in a future version.\n",
      "Instructions for updating:\n",
      "Colocations handled automatically by placer.\n",
      "WARNING:tensorflow:From /home/mohsen/miniconda3/envs/venv/lib/python3.6/site-packages/keras/backend/tensorflow_backend.py:3445: calling dropout (from tensorflow.python.ops.nn_ops) with keep_prob is deprecated and will be removed in a future version.\n",
      "Instructions for updating:\n",
      "Please use `rate` instead of `keep_prob`. Rate should be set to `rate = 1 - keep_prob`.\n",
      "__________________________________________________________________________________________________\n",
      "Layer (type)                    Output Shape         Param #     Connected to                     \n",
      "==================================================================================================\n",
      "encoder_labels (InputLayer)     (None, 2)            0                                            \n",
      "__________________________________________________________________________________________________\n",
      "dense_1 (Dense)                 (None, 128)          384         encoder_labels[0][0]             \n",
      "__________________________________________________________________________________________________\n",
      "dense_2 (Dense)                 (None, 4096)         528384      dense_1[0][0]                    \n",
      "__________________________________________________________________________________________________\n",
      "data (InputLayer)               (None, 64, 64, 3)    0                                            \n",
      "__________________________________________________________________________________________________\n",
      "reshape_1 (Reshape)             (None, 64, 64, 1)    0           dense_2[0][0]                    \n",
      "__________________________________________________________________________________________________\n",
      "concatenate_1 (Concatenate)     (None, 64, 64, 4)    0           data[0][0]                       \n",
      "                                                                 reshape_1[0][0]                  \n",
      "__________________________________________________________________________________________________\n",
      "conv2d_1 (Conv2D)               (None, 32, 32, 64)   4160        concatenate_1[0][0]              \n",
      "__________________________________________________________________________________________________\n",
      "leaky_re_lu_1 (LeakyReLU)       (None, 32, 32, 64)   0           conv2d_1[0][0]                   \n",
      "__________________________________________________________________________________________________\n",
      "max_pooling2d_1 (MaxPooling2D)  (None, 16, 16, 64)   0           leaky_re_lu_1[0][0]              \n",
      "__________________________________________________________________________________________________\n",
      "conv2d_2 (Conv2D)               (None, 8, 8, 64)     65600       max_pooling2d_1[0][0]            \n",
      "__________________________________________________________________________________________________\n",
      "leaky_re_lu_2 (LeakyReLU)       (None, 8, 8, 64)     0           conv2d_2[0][0]                   \n",
      "__________________________________________________________________________________________________\n",
      "max_pooling2d_2 (MaxPooling2D)  (None, 4, 4, 64)     0           leaky_re_lu_2[0][0]              \n",
      "__________________________________________________________________________________________________\n",
      "flatten_1 (Flatten)             (None, 1024)         0           max_pooling2d_2[0][0]            \n",
      "__________________________________________________________________________________________________\n",
      "dense_3 (Dense)                 (None, 1024)         1048576     flatten_1[0][0]                  \n",
      "__________________________________________________________________________________________________\n",
      "batch_normalization_1 (BatchNor (None, 1024)         4096        dense_3[0][0]                    \n",
      "__________________________________________________________________________________________________\n",
      "leaky_re_lu_3 (LeakyReLU)       (None, 1024)         0           batch_normalization_1[0][0]      \n",
      "__________________________________________________________________________________________________\n",
      "dropout_1 (Dropout)             (None, 1024)         0           leaky_re_lu_3[0][0]              \n",
      "__________________________________________________________________________________________________\n",
      "dense_4 (Dense)                 (None, 64)           65536       dropout_1[0][0]                  \n",
      "__________________________________________________________________________________________________\n",
      "batch_normalization_2 (BatchNor (None, 64)           256         dense_4[0][0]                    \n",
      "__________________________________________________________________________________________________\n",
      "leaky_re_lu_4 (LeakyReLU)       (None, 64)           0           batch_normalization_2[0][0]      \n",
      "__________________________________________________________________________________________________\n",
      "dropout_2 (Dropout)             (None, 64)           0           leaky_re_lu_4[0][0]              \n",
      "__________________________________________________________________________________________________\n",
      "dense_5 (Dense)                 (None, 50)           3250        dropout_2[0][0]                  \n",
      "__________________________________________________________________________________________________\n",
      "dense_6 (Dense)                 (None, 50)           3250        dropout_2[0][0]                  \n",
      "__________________________________________________________________________________________________\n",
      "lambda_1 (Lambda)               (None, 50)           0           dense_5[0][0]                    \n",
      "                                                                 dense_6[0][0]                    \n",
      "==================================================================================================\n",
      "Total params: 1,723,492\n",
      "Trainable params: 1,721,316\n",
      "Non-trainable params: 2,176\n",
      "__________________________________________________________________________________________________\n",
      "__________________________________________________________________________________________________\n",
      "Layer (type)                    Output Shape         Param #     Connected to                     \n",
      "==================================================================================================\n",
      "latent_data (InputLayer)        (None, 50)           0                                            \n",
      "__________________________________________________________________________________________________\n",
      "decoder_labels (InputLayer)     (None, 2)            0                                            \n",
      "__________________________________________________________________________________________________\n",
      "concatenate_2 (Concatenate)     (None, 52)           0           latent_data[0][0]                \n",
      "                                                                 decoder_labels[0][0]             \n",
      "__________________________________________________________________________________________________\n",
      "dense_7 (Dense)                 (None, 64)           3328        concatenate_2[0][0]              \n",
      "__________________________________________________________________________________________________\n",
      "batch_normalization_3 (BatchNor (None, 64)           256         dense_7[0][0]                    \n",
      "__________________________________________________________________________________________________\n",
      "mmd (LeakyReLU)                 (None, 64)           0           batch_normalization_3[0][0]      \n",
      "__________________________________________________________________________________________________\n",
      "dropout_3 (Dropout)             (None, 64)           0           mmd[0][0]                        \n",
      "__________________________________________________________________________________________________\n",
      "dense_8 (Dense)                 (None, 1024)         65536       dropout_3[0][0]                  \n",
      "__________________________________________________________________________________________________\n",
      "batch_normalization_4 (BatchNor (None, 1024)         4096        dense_8[0][0]                    \n",
      "__________________________________________________________________________________________________\n",
      "leaky_re_lu_5 (LeakyReLU)       (None, 1024)         0           batch_normalization_4[0][0]      \n",
      "__________________________________________________________________________________________________\n",
      "dropout_4 (Dropout)             (None, 1024)         0           leaky_re_lu_5[0][0]              \n",
      "__________________________________________________________________________________________________\n",
      "dense_9 (Dense)                 (None, 12288)        12582912    dropout_4[0][0]                  \n",
      "__________________________________________________________________________________________________\n",
      "leaky_re_lu_6 (LeakyReLU)       (None, 12288)        0           dense_9[0][0]                    \n",
      "__________________________________________________________________________________________________\n",
      "reshape_2 (Reshape)             (None, 64, 64, 3)    0           leaky_re_lu_6[0][0]              \n",
      "__________________________________________________________________________________________________\n",
      "conv2d_transpose_1 (Conv2DTrans (None, 64, 64, 128)  6272        reshape_2[0][0]                  \n",
      "__________________________________________________________________________________________________\n",
      "leaky_re_lu_7 (LeakyReLU)       (None, 64, 64, 128)  0           conv2d_transpose_1[0][0]         \n",
      "__________________________________________________________________________________________________\n",
      "conv2d_transpose_2 (Conv2DTrans (None, 64, 64, 64)   131136      leaky_re_lu_7[0][0]              \n",
      "__________________________________________________________________________________________________\n",
      "leaky_re_lu_8 (LeakyReLU)       (None, 64, 64, 64)   0           conv2d_transpose_2[0][0]         \n",
      "__________________________________________________________________________________________________\n",
      "conv2d_transpose_3 (Conv2DTrans (None, 64, 64, 3)    3075        leaky_re_lu_8[0][0]              \n",
      "==================================================================================================\n",
      "Total params: 12,796,611\n",
      "Trainable params: 12,794,435\n",
      "Non-trainable params: 2,176\n",
      "__________________________________________________________________________________________________\n",
      "__________________________________________________________________________________________________\n",
      "Layer (type)                    Output Shape         Param #     Connected to                     \n",
      "==================================================================================================\n",
      "data (InputLayer)               (None, 64, 64, 3)    0                                            \n",
      "__________________________________________________________________________________________________\n",
      "encoder_labels (InputLayer)     (None, 2)            0                                            \n",
      "__________________________________________________________________________________________________\n",
      "encoder (Model)                 [(None, 50), (None,  1723492     data[0][0]                       \n",
      "                                                                 encoder_labels[0][0]             \n",
      "                                                                 data[0][0]                       \n",
      "                                                                 encoder_labels[0][0]             \n",
      "__________________________________________________________________________________________________\n",
      "decoder_labels (InputLayer)     (None, 2)            0                                            \n",
      "__________________________________________________________________________________________________\n",
      "decoder (Model)                 (None, 64, 64, 3)    12796611    encoder[1][2]                    \n",
      "                                                                 decoder_labels[0][0]             \n",
      "__________________________________________________________________________________________________\n",
      "deocder_mmd (Model)             (None, 64)           3584        encoder[2][2]                    \n",
      "                                                                 decoder_labels[0][0]             \n",
      "__________________________________________________________________________________________________\n",
      "kl_reconstruction (Lambda)      (None, 64, 64, 3)    0           decoder[1][0]                    \n",
      "__________________________________________________________________________________________________\n",
      "mmd (Lambda)                    (None, 64)           0           deocder_mmd[1][0]                \n",
      "==================================================================================================\n",
      "Total params: 14,520,103\n",
      "Trainable params: 14,515,751\n",
      "Non-trainable params: 4,352\n",
      "__________________________________________________________________________________________________\n"
     ]
    }
   ],
   "source": [
    "network = reptrvae.models.DCtrVAE(x_dimension=input_shape,\n",
    "                                  z_dimension=50,\n",
    "                                  mmd_dimension=64,\n",
    "                                  alpha=1e-3,\n",
    "                                  beta=10,\n",
    "                                  gamma=0.0,\n",
    "                                  eta=10.,\n",
    "                                  model_path=\"./models/DCtrVAE/thick_thin_mnist/\",\n",
    "                                  dropout_rate=0.3,\n",
    "                                  arch_style=1,\n",
    "                                  n_conditions=n_conditions,\n",
    "                                  )"
   ]
  },
  {
   "cell_type": "code",
   "execution_count": 23,
   "metadata": {},
   "outputs": [],
   "source": [
    "condition_encoder = {-1: 0, 1:0}"
   ]
  },
  {
   "cell_type": "code",
   "execution_count": null,
   "metadata": {},
   "outputs": [],
   "source": [
    "network.train(net_train_adata, \n",
    "              net_valid_adata,\n",
    "              condition_encoder,\n",
    "              condition_key,\n",
    "              n_epochs=10000,\n",
    "              batch_size=512,\n",
    "              early_stop_limit=250,\n",
    "              lr_reducer=200, \n",
    "              shuffle=True, \n",
    "              save=True,\n",
    "              verbose=2)"
   ]
  },
  {
   "cell_type": "code",
   "execution_count": 24,
   "metadata": {},
   "outputs": [
    {
     "data": {
      "text/plain": [
       "View of AnnData object with n_obs × n_vars = 28956 × 12288 \n",
       "    obs: 'labels', 'condition'"
      ]
     },
     "execution_count": 24,
     "metadata": {},
     "output_type": "execute_result"
    }
   ],
   "source": [
    "women_adata = adata[adata.obs[label_key].isin(target_labels)]\n",
    "women_adata"
   ]
  },
  {
   "cell_type": "code",
   "execution_count": 25,
   "metadata": {},
   "outputs": [
    {
     "data": {
      "text/plain": [
       "[1, -1]"
      ]
     },
     "execution_count": 25,
     "metadata": {},
     "output_type": "execute_result"
    }
   ],
   "source": [
    "women_condition_adata = women_adata.obs[condition_key].unique().tolist()\n",
    "women_condition_adata"
   ]
  },
  {
   "cell_type": "markdown",
   "metadata": {},
   "source": [
    "# Out-of-Sample results visualization"
   ]
  },
  {
   "cell_type": "code",
   "execution_count": 26,
   "metadata": {},
   "outputs": [],
   "source": [
    "path_to_save = f\"./results/CelebA/\"\n",
    "os.makedirs(path_to_save, exist_ok=True)\n",
    "os.makedirs(os.path.join(path_to_save, f\"put_smile/\"), exist_ok=True)"
   ]
  },
  {
   "cell_type": "code",
   "execution_count": 32,
   "metadata": {},
   "outputs": [],
   "source": [
    "k = 5\n",
    "for i in range(10):\n",
    "    for target_condition in target_conditions:\n",
    "        plt.close(\"all\")\n",
    "        fig, ax = plt.subplots(k, 2, figsize=(k, 15))\n",
    "        for j in range(k):\n",
    "            unhappy_women_adata = women_adata[women_adata.obs[condition_key] == -1] \n",
    "            happy_women_adata = women_adata[women_adata.obs[condition_key] == target_condition]\n",
    "\n",
    "            woman_idx = np.random.choice(unhappy_women_adata.shape[0], 1)[0]\n",
    "\n",
    "            sample_unhappy_woman_adata = unhappy_women_adata[woman_idx]\n",
    "\n",
    "            sample_unhappy_woman = np.reshape(sample_unhappy_woman_adata.X, (64, 64, 3))\n",
    "\n",
    "            encoder_label = np.zeros((1, )) + condition_encoder[-1]\n",
    "            decoder_label = np.zeros((1, )) + condition_encoder[target_condition]\n",
    "\n",
    "            pred_adata = network.predict(sample_unhappy_woman_adata, encoder_label, decoder_label)\n",
    "            pred_image = pred_adata.X.reshape((64, 64, 3))\n",
    "\n",
    "            ax[j, 0].imshow(sample_unhappy_woman)\n",
    "            ax[j, 0].axis('off')\n",
    "            ax[0, 0].set_title(\"Un happy\")\n",
    "\n",
    "            ax[j, 1].imshow(pred_image)\n",
    "            ax[j, 1].axis('off')\n",
    "            ax[0, 1].set_title(f\"Happy!\")\n",
    "#         plt.show()\n",
    "        plt.savefig(os.path.join(path_to_save, f\"put_smile/sample_images_{i}.pdf\"), dpi=200)\n",
    "        plt.close('all')"
   ]
  },
  {
   "cell_type": "code",
   "execution_count": 41,
   "metadata": {},
   "outputs": [
    {
     "name": "stdout",
     "output_type": "stream",
     "text": [
      "WARNING: You're trying to run this on 784 dimensions of `.X`, if you really want this, set `use_rep='X'`.\n",
      "         Falling back to preprocessing with `sc.pp.pca` and default params.\n"
     ]
    }
   ],
   "source": [
    "sc.pp.neighbors(adata)\n",
    "sc.tl.umap(adata)"
   ]
  },
  {
   "cell_type": "code",
   "execution_count": 43,
   "metadata": {},
   "outputs": [],
   "source": [
    "sc.set_figure_params(dpi=200)"
   ]
  },
  {
   "cell_type": "code",
   "execution_count": null,
   "metadata": {},
   "outputs": [],
   "source": [
    "sc.pl.umap(adata, color=[condition_key, label_key], wspace=0.3)"
   ]
  },
  {
   "cell_type": "code",
   "execution_count": 35,
   "metadata": {},
   "outputs": [
    {
     "data": {
      "text/plain": [
       "(50000, 1)"
      ]
     },
     "execution_count": 35,
     "metadata": {},
     "output_type": "execute_result"
    }
   ],
   "source": [
    "encoder_labels, _ = reptrvae.utils.label_encoder(adata,\n",
    "                                                  condition_key=condition_key, \n",
    "                                                  label_encoder=condition_encoder)\n",
    "encoder_labels.shape"
   ]
  },
  {
   "cell_type": "code",
   "execution_count": 36,
   "metadata": {},
   "outputs": [
    {
     "data": {
      "text/plain": [
       "AnnData object with n_obs × n_vars = 50000 × 50 \n",
       "    obs: 'labels', 'condition'"
      ]
     },
     "execution_count": 36,
     "metadata": {},
     "output_type": "execute_result"
    }
   ],
   "source": [
    "latent_adata = network.to_latent(adata, encoder_labels=encoder_labels)\n",
    "latent_adata"
   ]
  },
  {
   "cell_type": "code",
   "execution_count": 57,
   "metadata": {},
   "outputs": [],
   "source": [
    "sc.pp.neighbors(latent_adata)\n",
    "sc.tl.umap(latent_adata)"
   ]
  },
  {
   "cell_type": "code",
   "execution_count": null,
   "metadata": {},
   "outputs": [],
   "source": [
    "sc.pl.umap(latent_adata, color=[condition_key, label_key], wspace=0.3)"
   ]
  },
  {
   "cell_type": "code",
   "execution_count": 37,
   "metadata": {},
   "outputs": [
    {
     "data": {
      "text/plain": [
       "AnnData object with n_obs × n_vars = 50000 × 64 \n",
       "    obs: 'labels', 'condition'"
      ]
     },
     "execution_count": 37,
     "metadata": {},
     "output_type": "execute_result"
    }
   ],
   "source": [
    "mmd_adata = network.to_mmd_layer(adata, encoder_labels, feed_fake=-1)\n",
    "mmd_adata"
   ]
  },
  {
   "cell_type": "code",
   "execution_count": 61,
   "metadata": {},
   "outputs": [
    {
     "name": "stdout",
     "output_type": "stream",
     "text": [
      "WARNING: You're trying to run this on 128 dimensions of `.X`, if you really want this, set `use_rep='X'`.\n",
      "         Falling back to preprocessing with `sc.pp.pca` and default params.\n"
     ]
    }
   ],
   "source": [
    "sc.pp.neighbors(mmd_adata)\n",
    "sc.tl.umap(mmd_adata)"
   ]
  },
  {
   "cell_type": "code",
   "execution_count": null,
   "metadata": {},
   "outputs": [],
   "source": [
    "sc.pl.umap(mmd_adata, color=[condition_key, label_key], wspace=0.3)"
   ]
  },
  {
   "cell_type": "code",
   "execution_count": null,
   "metadata": {},
   "outputs": [],
   "source": []
  }
 ],
 "metadata": {
  "kernelspec": {
   "display_name": "jowo",
   "language": "python",
   "name": "python3"
  },
  "language_info": {
   "codemirror_mode": {
    "name": "ipython",
    "version": 3
   },
   "file_extension": ".py",
   "mimetype": "text/x-python",
   "name": "python",
   "nbconvert_exporter": "python",
   "pygments_lexer": "ipython3",
   "version": "3.7.15 (default, Nov 24 2022, 21:12:53) \n[GCC 11.2.0]"
  },
  "vscode": {
   "interpreter": {
    "hash": "eb397056775ee1e1da1678ce3fc5b9c62da8c2e2c6ebdf0dda0cd4d5f63a0bbb"
   }
  }
 },
 "nbformat": 4,
 "nbformat_minor": 2
}
