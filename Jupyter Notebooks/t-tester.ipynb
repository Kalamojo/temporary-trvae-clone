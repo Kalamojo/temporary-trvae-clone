{
 "cells": [
  {
   "cell_type": "code",
   "execution_count": 1,
   "metadata": {},
   "outputs": [],
   "source": [
    "import os\n",
    "import scanpy as sc\n",
    "import pandas as pd\n",
    "import numpy as np\n",
    "import scipy.stats as stats\n",
    "\n",
    "home = '/home/kojo/Code/temporary-trvae-clone'\n",
    "os.chdir(home)"
   ]
  },
  {
   "cell_type": "code",
   "execution_count": 2,
   "metadata": {},
   "outputs": [
    {
     "data": {
      "text/html": [
       "<div>\n",
       "<style scoped>\n",
       "    .dataframe tbody tr th:only-of-type {\n",
       "        vertical-align: middle;\n",
       "    }\n",
       "\n",
       "    .dataframe tbody tr th {\n",
       "        vertical-align: top;\n",
       "    }\n",
       "\n",
       "    .dataframe thead th {\n",
       "        text-align: right;\n",
       "    }\n",
       "</style>\n",
       "<table border=\"1\" class=\"dataframe\">\n",
       "  <thead>\n",
       "    <tr style=\"text-align: right;\">\n",
       "      <th></th>\n",
       "      <th>Qi ID</th>\n",
       "      <th>sex</th>\n",
       "      <th>Group</th>\n",
       "      <th>Timepoint</th>\n",
       "      <th>n_counts</th>\n",
       "      <th>batch</th>\n",
       "    </tr>\n",
       "  </thead>\n",
       "  <tbody>\n",
       "    <tr>\n",
       "      <th>8-0</th>\n",
       "      <td>3346</td>\n",
       "      <td>F</td>\n",
       "      <td>WT_to_HET</td>\n",
       "      <td>3m</td>\n",
       "      <td>6.196362e+09</td>\n",
       "      <td>0</td>\n",
       "    </tr>\n",
       "    <tr>\n",
       "      <th>9-0</th>\n",
       "      <td>3347</td>\n",
       "      <td>F</td>\n",
       "      <td>WT_to_HET</td>\n",
       "      <td>3m</td>\n",
       "      <td>6.794262e+09</td>\n",
       "      <td>0</td>\n",
       "    </tr>\n",
       "    <tr>\n",
       "      <th>10-0</th>\n",
       "      <td>3388</td>\n",
       "      <td>F</td>\n",
       "      <td>WT_to_HET</td>\n",
       "      <td>3m</td>\n",
       "      <td>7.239526e+09</td>\n",
       "      <td>0</td>\n",
       "    </tr>\n",
       "    <tr>\n",
       "      <th>11-0</th>\n",
       "      <td>3389</td>\n",
       "      <td>F</td>\n",
       "      <td>WT_to_HET</td>\n",
       "      <td>3m</td>\n",
       "      <td>6.479385e+09</td>\n",
       "      <td>0</td>\n",
       "    </tr>\n",
       "    <tr>\n",
       "      <th>12-0</th>\n",
       "      <td>3606</td>\n",
       "      <td>M</td>\n",
       "      <td>WT_to_HET</td>\n",
       "      <td>3m</td>\n",
       "      <td>7.353696e+09</td>\n",
       "      <td>0</td>\n",
       "    </tr>\n",
       "    <tr>\n",
       "      <th>13-0</th>\n",
       "      <td>3607</td>\n",
       "      <td>M</td>\n",
       "      <td>WT_to_HET</td>\n",
       "      <td>3m</td>\n",
       "      <td>8.290053e+09</td>\n",
       "      <td>0</td>\n",
       "    </tr>\n",
       "    <tr>\n",
       "      <th>14-0</th>\n",
       "      <td>3608</td>\n",
       "      <td>M</td>\n",
       "      <td>WT_to_HET</td>\n",
       "      <td>3m</td>\n",
       "      <td>6.614078e+09</td>\n",
       "      <td>0</td>\n",
       "    </tr>\n",
       "    <tr>\n",
       "      <th>15-0</th>\n",
       "      <td>3609</td>\n",
       "      <td>M</td>\n",
       "      <td>WT_to_HET</td>\n",
       "      <td>3m</td>\n",
       "      <td>8.094854e+09</td>\n",
       "      <td>0</td>\n",
       "    </tr>\n",
       "    <tr>\n",
       "      <th>0-1</th>\n",
       "      <td>3131</td>\n",
       "      <td>M</td>\n",
       "      <td>HET</td>\n",
       "      <td>3m</td>\n",
       "      <td>5.458209e+09</td>\n",
       "      <td>1</td>\n",
       "    </tr>\n",
       "    <tr>\n",
       "      <th>1-1</th>\n",
       "      <td>3132</td>\n",
       "      <td>M</td>\n",
       "      <td>HET</td>\n",
       "      <td>3m</td>\n",
       "      <td>7.439315e+09</td>\n",
       "      <td>1</td>\n",
       "    </tr>\n",
       "    <tr>\n",
       "      <th>2-1</th>\n",
       "      <td>3140</td>\n",
       "      <td>M</td>\n",
       "      <td>HET</td>\n",
       "      <td>3m</td>\n",
       "      <td>6.016821e+09</td>\n",
       "      <td>1</td>\n",
       "    </tr>\n",
       "    <tr>\n",
       "      <th>3-1</th>\n",
       "      <td>3141</td>\n",
       "      <td>M</td>\n",
       "      <td>HET</td>\n",
       "      <td>3m</td>\n",
       "      <td>7.549487e+09</td>\n",
       "      <td>1</td>\n",
       "    </tr>\n",
       "    <tr>\n",
       "      <th>4-1</th>\n",
       "      <td>3153</td>\n",
       "      <td>F</td>\n",
       "      <td>HET</td>\n",
       "      <td>3m</td>\n",
       "      <td>7.475885e+09</td>\n",
       "      <td>1</td>\n",
       "    </tr>\n",
       "    <tr>\n",
       "      <th>5-1</th>\n",
       "      <td>3154</td>\n",
       "      <td>F</td>\n",
       "      <td>HET</td>\n",
       "      <td>3m</td>\n",
       "      <td>7.624840e+09</td>\n",
       "      <td>1</td>\n",
       "    </tr>\n",
       "    <tr>\n",
       "      <th>6-1</th>\n",
       "      <td>3156</td>\n",
       "      <td>F</td>\n",
       "      <td>HET</td>\n",
       "      <td>3m</td>\n",
       "      <td>4.729855e+09</td>\n",
       "      <td>1</td>\n",
       "    </tr>\n",
       "    <tr>\n",
       "      <th>7-1</th>\n",
       "      <td>3157</td>\n",
       "      <td>F</td>\n",
       "      <td>HET</td>\n",
       "      <td>3m</td>\n",
       "      <td>7.761574e+09</td>\n",
       "      <td>1</td>\n",
       "    </tr>\n",
       "  </tbody>\n",
       "</table>\n",
       "</div>"
      ],
      "text/plain": [
       "      Qi ID sex      Group Timepoint      n_counts batch\n",
       "8-0    3346   F  WT_to_HET        3m  6.196362e+09     0\n",
       "9-0    3347   F  WT_to_HET        3m  6.794262e+09     0\n",
       "10-0   3388   F  WT_to_HET        3m  7.239526e+09     0\n",
       "11-0   3389   F  WT_to_HET        3m  6.479385e+09     0\n",
       "12-0   3606   M  WT_to_HET        3m  7.353696e+09     0\n",
       "13-0   3607   M  WT_to_HET        3m  8.290053e+09     0\n",
       "14-0   3608   M  WT_to_HET        3m  6.614078e+09     0\n",
       "15-0   3609   M  WT_to_HET        3m  8.094854e+09     0\n",
       "0-1    3131   M        HET        3m  5.458209e+09     1\n",
       "1-1    3132   M        HET        3m  7.439315e+09     1\n",
       "2-1    3140   M        HET        3m  6.016821e+09     1\n",
       "3-1    3141   M        HET        3m  7.549487e+09     1\n",
       "4-1    3153   F        HET        3m  7.475885e+09     1\n",
       "5-1    3154   F        HET        3m  7.624840e+09     1\n",
       "6-1    3156   F        HET        3m  4.729855e+09     1\n",
       "7-1    3157   F        HET        3m  7.761574e+09     1"
      ]
     },
     "execution_count": 2,
     "metadata": {},
     "output_type": "execute_result"
    }
   ],
   "source": [
    "specific_cell_type = \"3m\"\n",
    "trvae_reconstructed = sc.read(f\"./data/reconstructed/trVAE_alzPro/{specific_cell_type}.h5ad\")\n",
    "trvae_reconstructed.obs"
   ]
  },
  {
   "cell_type": "code",
   "execution_count": 3,
   "metadata": {},
   "outputs": [
    {
     "data": {
      "text/html": [
       "<div>\n",
       "<style scoped>\n",
       "    .dataframe tbody tr th:only-of-type {\n",
       "        vertical-align: middle;\n",
       "    }\n",
       "\n",
       "    .dataframe tbody tr th {\n",
       "        vertical-align: top;\n",
       "    }\n",
       "\n",
       "    .dataframe thead th {\n",
       "        text-align: right;\n",
       "    }\n",
       "</style>\n",
       "<table border=\"1\" class=\"dataframe\">\n",
       "  <thead>\n",
       "    <tr style=\"text-align: right;\">\n",
       "      <th></th>\n",
       "      <th>Qi ID</th>\n",
       "      <th>sex</th>\n",
       "      <th>Group</th>\n",
       "      <th>Timepoint</th>\n",
       "      <th>n_counts</th>\n",
       "      <th>batch</th>\n",
       "    </tr>\n",
       "  </thead>\n",
       "  <tbody>\n",
       "    <tr>\n",
       "      <th>8-0</th>\n",
       "      <td>3346</td>\n",
       "      <td>F</td>\n",
       "      <td>WT_to_HET</td>\n",
       "      <td>3m</td>\n",
       "      <td>6.196362e+09</td>\n",
       "      <td>0</td>\n",
       "    </tr>\n",
       "    <tr>\n",
       "      <th>9-0</th>\n",
       "      <td>3347</td>\n",
       "      <td>F</td>\n",
       "      <td>WT_to_HET</td>\n",
       "      <td>3m</td>\n",
       "      <td>6.794262e+09</td>\n",
       "      <td>0</td>\n",
       "    </tr>\n",
       "    <tr>\n",
       "      <th>10-0</th>\n",
       "      <td>3388</td>\n",
       "      <td>F</td>\n",
       "      <td>WT_to_HET</td>\n",
       "      <td>3m</td>\n",
       "      <td>7.239526e+09</td>\n",
       "      <td>0</td>\n",
       "    </tr>\n",
       "    <tr>\n",
       "      <th>11-0</th>\n",
       "      <td>3389</td>\n",
       "      <td>F</td>\n",
       "      <td>WT_to_HET</td>\n",
       "      <td>3m</td>\n",
       "      <td>6.479385e+09</td>\n",
       "      <td>0</td>\n",
       "    </tr>\n",
       "    <tr>\n",
       "      <th>12-0</th>\n",
       "      <td>3606</td>\n",
       "      <td>M</td>\n",
       "      <td>WT_to_HET</td>\n",
       "      <td>3m</td>\n",
       "      <td>7.353696e+09</td>\n",
       "      <td>0</td>\n",
       "    </tr>\n",
       "    <tr>\n",
       "      <th>13-0</th>\n",
       "      <td>3607</td>\n",
       "      <td>M</td>\n",
       "      <td>WT_to_HET</td>\n",
       "      <td>3m</td>\n",
       "      <td>8.290053e+09</td>\n",
       "      <td>0</td>\n",
       "    </tr>\n",
       "    <tr>\n",
       "      <th>14-0</th>\n",
       "      <td>3608</td>\n",
       "      <td>M</td>\n",
       "      <td>WT_to_HET</td>\n",
       "      <td>3m</td>\n",
       "      <td>6.614078e+09</td>\n",
       "      <td>0</td>\n",
       "    </tr>\n",
       "    <tr>\n",
       "      <th>15-0</th>\n",
       "      <td>3609</td>\n",
       "      <td>M</td>\n",
       "      <td>WT_to_HET</td>\n",
       "      <td>3m</td>\n",
       "      <td>8.094854e+09</td>\n",
       "      <td>0</td>\n",
       "    </tr>\n",
       "  </tbody>\n",
       "</table>\n",
       "</div>"
      ],
      "text/plain": [
       "      Qi ID sex      Group Timepoint      n_counts batch\n",
       "8-0    3346   F  WT_to_HET        3m  6.196362e+09     0\n",
       "9-0    3347   F  WT_to_HET        3m  6.794262e+09     0\n",
       "10-0   3388   F  WT_to_HET        3m  7.239526e+09     0\n",
       "11-0   3389   F  WT_to_HET        3m  6.479385e+09     0\n",
       "12-0   3606   M  WT_to_HET        3m  7.353696e+09     0\n",
       "13-0   3607   M  WT_to_HET        3m  8.290053e+09     0\n",
       "14-0   3608   M  WT_to_HET        3m  6.614078e+09     0\n",
       "15-0   3609   M  WT_to_HET        3m  8.094854e+09     0"
      ]
     },
     "execution_count": 3,
     "metadata": {},
     "output_type": "execute_result"
    }
   ],
   "source": [
    "dist1 = trvae_reconstructed[trvae_reconstructed.obs[\"Group\"] == \"WT_to_HET\"]\n",
    "dist1.obs"
   ]
  },
  {
   "cell_type": "code",
   "execution_count": 4,
   "metadata": {},
   "outputs": [
    {
     "data": {
      "text/html": [
       "<div>\n",
       "<style scoped>\n",
       "    .dataframe tbody tr th:only-of-type {\n",
       "        vertical-align: middle;\n",
       "    }\n",
       "\n",
       "    .dataframe tbody tr th {\n",
       "        vertical-align: top;\n",
       "    }\n",
       "\n",
       "    .dataframe thead th {\n",
       "        text-align: right;\n",
       "    }\n",
       "</style>\n",
       "<table border=\"1\" class=\"dataframe\">\n",
       "  <thead>\n",
       "    <tr style=\"text-align: right;\">\n",
       "      <th></th>\n",
       "      <th>Qi ID</th>\n",
       "      <th>sex</th>\n",
       "      <th>Group</th>\n",
       "      <th>Timepoint</th>\n",
       "      <th>n_counts</th>\n",
       "      <th>batch</th>\n",
       "    </tr>\n",
       "  </thead>\n",
       "  <tbody>\n",
       "    <tr>\n",
       "      <th>0-1</th>\n",
       "      <td>3131</td>\n",
       "      <td>M</td>\n",
       "      <td>HET</td>\n",
       "      <td>3m</td>\n",
       "      <td>5.458209e+09</td>\n",
       "      <td>1</td>\n",
       "    </tr>\n",
       "    <tr>\n",
       "      <th>1-1</th>\n",
       "      <td>3132</td>\n",
       "      <td>M</td>\n",
       "      <td>HET</td>\n",
       "      <td>3m</td>\n",
       "      <td>7.439315e+09</td>\n",
       "      <td>1</td>\n",
       "    </tr>\n",
       "    <tr>\n",
       "      <th>2-1</th>\n",
       "      <td>3140</td>\n",
       "      <td>M</td>\n",
       "      <td>HET</td>\n",
       "      <td>3m</td>\n",
       "      <td>6.016821e+09</td>\n",
       "      <td>1</td>\n",
       "    </tr>\n",
       "    <tr>\n",
       "      <th>3-1</th>\n",
       "      <td>3141</td>\n",
       "      <td>M</td>\n",
       "      <td>HET</td>\n",
       "      <td>3m</td>\n",
       "      <td>7.549487e+09</td>\n",
       "      <td>1</td>\n",
       "    </tr>\n",
       "    <tr>\n",
       "      <th>4-1</th>\n",
       "      <td>3153</td>\n",
       "      <td>F</td>\n",
       "      <td>HET</td>\n",
       "      <td>3m</td>\n",
       "      <td>7.475885e+09</td>\n",
       "      <td>1</td>\n",
       "    </tr>\n",
       "    <tr>\n",
       "      <th>5-1</th>\n",
       "      <td>3154</td>\n",
       "      <td>F</td>\n",
       "      <td>HET</td>\n",
       "      <td>3m</td>\n",
       "      <td>7.624840e+09</td>\n",
       "      <td>1</td>\n",
       "    </tr>\n",
       "    <tr>\n",
       "      <th>6-1</th>\n",
       "      <td>3156</td>\n",
       "      <td>F</td>\n",
       "      <td>HET</td>\n",
       "      <td>3m</td>\n",
       "      <td>4.729855e+09</td>\n",
       "      <td>1</td>\n",
       "    </tr>\n",
       "    <tr>\n",
       "      <th>7-1</th>\n",
       "      <td>3157</td>\n",
       "      <td>F</td>\n",
       "      <td>HET</td>\n",
       "      <td>3m</td>\n",
       "      <td>7.761574e+09</td>\n",
       "      <td>1</td>\n",
       "    </tr>\n",
       "  </tbody>\n",
       "</table>\n",
       "</div>"
      ],
      "text/plain": [
       "     Qi ID sex Group Timepoint      n_counts batch\n",
       "0-1   3131   M   HET        3m  5.458209e+09     1\n",
       "1-1   3132   M   HET        3m  7.439315e+09     1\n",
       "2-1   3140   M   HET        3m  6.016821e+09     1\n",
       "3-1   3141   M   HET        3m  7.549487e+09     1\n",
       "4-1   3153   F   HET        3m  7.475885e+09     1\n",
       "5-1   3154   F   HET        3m  7.624840e+09     1\n",
       "6-1   3156   F   HET        3m  4.729855e+09     1\n",
       "7-1   3157   F   HET        3m  7.761574e+09     1"
      ]
     },
     "execution_count": 4,
     "metadata": {},
     "output_type": "execute_result"
    }
   ],
   "source": [
    "dist2 = trvae_reconstructed[trvae_reconstructed.obs[\"Group\"] == \"HET\"]\n",
    "dist2.obs"
   ]
  },
  {
   "cell_type": "code",
   "execution_count": 5,
   "metadata": {},
   "outputs": [
    {
     "data": {
      "text/plain": [
       "1729"
      ]
     },
     "execution_count": 5,
     "metadata": {},
     "output_type": "execute_result"
    }
   ],
   "source": [
    "len(dist1.X[0])"
   ]
  },
  {
   "cell_type": "code",
   "execution_count": 6,
   "metadata": {},
   "outputs": [
    {
     "data": {
      "text/plain": [
       "'A2A432|CUL4B'"
      ]
     },
     "execution_count": 6,
     "metadata": {},
     "output_type": "execute_result"
    }
   ],
   "source": [
    "dist1.var.index[0]"
   ]
  },
  {
   "cell_type": "code",
   "execution_count": 7,
   "metadata": {},
   "outputs": [
    {
     "data": {
      "text/plain": [
       "ArrayView([12.557371, 12.622407, 12.645137, 12.316049, 12.431604,\n",
       "           12.252935, 12.775632, 12.459983], dtype=float32)"
      ]
     },
     "execution_count": 7,
     "metadata": {},
     "output_type": "execute_result"
    }
   ],
   "source": [
    "dist2.X[:,0]"
   ]
  },
  {
   "cell_type": "code",
   "execution_count": 8,
   "metadata": {},
   "outputs": [
    {
     "data": {
      "text/plain": [
       "ArrayView([9.272251, 9.246584, 9.28266 , 9.187363, 9.114222, 9.220908,\n",
       "           9.242485, 8.941264], dtype=float32)"
      ]
     },
     "execution_count": 8,
     "metadata": {},
     "output_type": "execute_result"
    }
   ],
   "source": [
    "dist1.X[:,0]"
   ]
  },
  {
   "cell_type": "code",
   "execution_count": 12,
   "metadata": {},
   "outputs": [
    {
     "data": {
      "text/plain": [
       "Ttest_indResult(statistic=44.91151550342241, pvalue=1.553465768494924e-16)"
      ]
     },
     "execution_count": 12,
     "metadata": {},
     "output_type": "execute_result"
    }
   ],
   "source": [
    "stats.ttest_ind(dist2.X[:,0], dist1.X[:,0])"
   ]
  },
  {
   "cell_type": "code",
   "execution_count": 17,
   "metadata": {},
   "outputs": [
    {
     "name": "stdout",
     "output_type": "stream",
     "text": [
      "0.9911026800907181\n"
     ]
    }
   ],
   "source": [
    "protein_tests = {}\n",
    "for i in range(1729):\n",
    "    protein_tests[stats.ttest_ind(dist2.X[:,i], dist1.X[:,i]).pvalue] = dist1.var.index[i]\n",
    "\n",
    "print(max(protein_tests))"
   ]
  },
  {
   "cell_type": "code",
   "execution_count": 27,
   "metadata": {},
   "outputs": [
    {
     "data": {
      "text/plain": [
       "dict_values(['P97355|SPSY', 'Q62426|CYTB', 'O54988|SLK', 'Q8VEH5|EPMIP', 'P62715|PP2AB', 'Q99K48|NONO', 'Q9D0R2|SYTC', 'Q9DB73|NB5R1', 'Q03517|SCG2', 'Q99KC8|VMA5A', 'Q505F5|LRC47', 'P34914|HYES', 'Q9WVE8|PACN2', 'P13020|GELS', 'Q8R2Y0|ABHD6', 'Q8VHL1|SETD7', 'Q9QZB7|ARP10', 'Q6NS52|DGKB', 'O35449|PRRT1', 'O55106|STRN', 'P97371|PSME1', 'Q9Z1L5|CA2D3', 'Q3UQ44|IQGA2', 'Q99LG2|TNPO2', 'Q9D2V7|CORO7', 'Q922E4|PCY2', 'Q9D8B7|JAM3', 'Q8K4G5|ABLM1', 'P16460|ASSY', 'Q8VBY2|KKCC1', 'P97492|RGS14', 'Q8K221|ARFP2', 'P51830|ADCY9', 'Q08460|KCMA1', 'Q61290|CAC1E', 'O70172|PI42A', 'Q8C8N2|SCAI', 'Q9DBL1|ACDSB', 'Q8CDG3|VCIP1', 'Q9D154|ILEUA', 'Q6PFD5|DLGP3', 'Q9D6Z1|NOP56', 'Q61234|SNTA1', 'P14106|C1QB', 'Q9QZF2|GPC1', 'Q61696|HS71A', 'O88910|MPP3', 'P51655|GPC4', 'Q80U49|C170B', 'P97390|VPS45', 'Q9CZS1|AL1B1', 'O55026|ENTP2', 'Q91ZP9|NECA2', 'Q9CZT8|RAB3B', 'Q7TME0|PLPR4', 'Q8VHW2|CCG8', 'P84089|ERH', 'Q60625|ICAM5', 'P50571|GBRB1', 'Q9WVA3|BUB3', 'Q8C078|KKCC2', 'Q8CC35|SYNPO', 'Q9QYS2|GRM3', 'Q9JKW0|AR6P1', 'A2RT62|FXL16', 'Q0VE82|CPNE7', 'P47802|MTX1', 'Q6PH08|ERC2', 'Q01097|NMDE2', 'Q9JK42|PDK2', 'Q62348|TSN', 'Q60875|ARHG2', 'O54983|CRYM', 'Q3UHL1|CAMKV', 'P50153|GBG4', 'Q922S4|PDE2A', 'O35737|HNRH1', 'Q9QZX7|SRR', 'Q9R111|GUAD', 'Q9D0M1|KPRA', 'Q8BLR2|CPNE4', 'Q3UHD9|AGAP2', 'Q61481|PDE1A', 'D3YVF0|AKAP5', 'P58044|IDI1', 'Q91VK4|ITM2C', 'P0C7L0|WIPF3', 'Q920P5|KAD5', 'Q99LB2|DHRS4', 'O70194|EIF3D', 'Q99J85|NPTXR', 'Q9QXW9|LAT2', 'Q9CQK7|RWDD1', 'D3YXK2|SAFB1', 'Q00612|G6PD1', 'Q8BSS9|LIPA2', 'Q99LS3|SERB', 'Q14BI2|GRM2', 'Q60900|ELAV3', 'Q8VDP6|CDIPT', 'Q61387|COX7R', 'P35288|RAB23', 'Q921E2|RAB31', 'Q8R1B5|CPLX3', 'Q8CIN4|PAK2', 'Q9CRB8|MTFP1', 'P07309|TTHY', 'P29387|GBB4', 'Q8BFP9|PDK1', 'Q61831|MK10', 'Q80VC9|CAMP3', 'P46097|SYT2', 'Q9WUC3|LY6H', 'Q9D7N9|APMAP', 'Q6P8X1|SNX6', 'F6SEU4|SYGP1', 'Q9D0J8|PTMS', 'P60761|NEUG', 'Q8BIZ1|ANS1B', 'Q9CWF2|TBB2B', 'P61226|RAP2B', 'Q9Z140|CPNE6', 'Q80TL4|PHF24', 'P11881|ITPR1', 'Q71M36|CSPG5', 'Q8BGZ1|HPCL4', 'O55091|IMPCT', 'P15508|SPTB1', 'Q8BTZ7|GMPPB', 'P46061|RAGP1', 'Q99J08|S14L2', 'Q9Z1Q9|SYVC', 'Q80TL0|PPM1E', 'Q9Z2Y3|HOME1', 'Q99PL6|UBXN6', 'P12023|A4', 'Q3UUI3|THEM4', 'Q99KP3|CRYL1', 'P70333|HNRH2', 'Q80UG5|SEPT9', 'Q9CPR4|RL17', 'P01942|HBA', 'P20060|HEXB', 'P02088|HBB1', 'Q0VBF8|STUM', 'Q91XV3|BASP1', 'Q8C437|PEX5R', 'Q9R257|HEBP1', 'Q4ACU6|SHAN3', 'O35405|PLD3', 'P50171|DHB8', 'Q9D8W7|OCAD2', 'P11798|KCC2A', 'P63082|VATL', 'Q9JM14|NT5C', 'Q8CGF6|WDR47', 'Q80UG2|PLXA4', 'O88543|CSN3', 'P57722|PCBP3', 'O35382|EXOC4', 'P43276|H15', 'Q80YA9|CNKR2', 'P28661|SEPT4', 'Q3ULD5|MCCB', 'Q99LD8|DDAH2', 'P68037|UB2L3', 'Q9CRB6|TPPP3', 'Q8R5H6|WASF1', 'Q9Z268|RASL1', 'Q4KML4|ABRAL', 'Q9CRD0|OCAD1', 'P26039|TLN1', 'Q8R3P0|ACY2', 'Q6ZPE2|MTMR5', 'Q9DCZ1|GMPR1', 'Q8C167|PPCEL', 'P12961|7B2', 'Q8K354|CBR3', 'P97441|ZNT3', 'Q61768|KINH', 'O35526|STX1A', 'Q99KQ4|NAMPT', 'Q7TMB8|CYFP1', 'P63054|PCP4', 'Q8C7K6|PCYXL', 'Q8BXR1|S7A14', 'P97384|ANX11', 'P84104|SRSF3', 'Q9CQC9|SAR1B', 'Q99JF8|PSIP1', 'Q08642|PADI2', 'P68181|KAPCB', 'Q61097|KSR1', 'P31324|KAP3', 'O35343|IMA3', 'P45952|ACADM', 'Q06890|CLUS', 'P60469|LIPA3', 'Q6P4S6|SIK3', 'P21460|CYTC', 'P63044|VAMP2', 'E9Q401|RYR2', 'Q00PI9|HNRL2', 'P17156|HSP72', 'Q64674|SPEE', 'P32848|PRVA', 'Q924L1|LTMD1', 'Q8C052|MAP1S', 'P56695|WFS1', 'Q9JJY3|NSMA2', 'Q3UGC7|EI3JA', 'Q8CFV4|NRN1', 'P12658|CALB1', 'O08532|CA2D1', 'Q9EP69|SAC1', 'Q8VD62|CK068', 'Q9WV69|DEMA', 'P48428|TBCA', 'P84075|HPCA', 'Q8BGN3|ENPP6', 'Q60829|PPR1B', 'P55066|NCAN', 'P07724|ALBU', 'Q80ZJ1|RAP2A', 'O35857|TIM44', 'P10922|H10', 'Q8BMF3|MAON', 'P97798|NEO1', 'Q8VH51|RBM39', 'Q03137|EPHA4', 'Q68FL4|SAHH3', 'Q8R5M8|CADM1', 'Q6Q477|AT2B4', 'P19246|NFH', 'Q8BYM5|NLGN3', 'Q9QZD8|DIC', 'P15209|NTRK2', 'P09055|ITB1', 'P47941|CRKL', 'P35438|NMDZ1', 'P62484|ABI2', 'Q9QVP9|FAK2', 'Q61543|GSLG1', 'P04104|K2C1', 'Q8C0C7|SYFA', 'Q9R0H0|ACOX1', 'Q9D0L7|ARM10', 'Q9ES28|ARHG7', 'Q8VD04|GRAP1', 'Q3TDN2|FAF2', 'P08226|APOE', 'Q9JM52|MINK1', 'Q60634|FLOT2', 'Q9CWK8|SNX2', 'Q8R317|UBQL1', 'P21619|LMNB2', 'P06801|MAOX', 'P03995|GFAP', 'P61924|COPZ1', 'B1AZP2|DLGP4', 'Q9WVK4|EHD1', 'P02468|LAMC1', 'Q9JHR7|IDE', 'P16014|SCG1', 'Q08331|CALB2', 'O55042|SYUA', 'P48453|PP2BB', 'Q8BNW9|KBTBB', 'O55029|COPB2', 'Q9Z2Y8|PLPHP', 'Q99JG2|ETBR2', 'P42859|HD', 'Q99KE1|MAOM', 'Q9Z0H8|CLIP2', 'Q8BLQ9|CADM2', 'Q9WTP7|KAD3', 'Q6P5F9|XPO1', 'Q64331|MYO6', 'Q91V09|WDR13', 'P43274|H14', 'P16054|KPCE', 'Q9DB72|BTBDH', 'P0C0A3|CHMP6', 'Q62442|VAMP1', 'Q5SYD0|MYO1D', 'Q8JZS0|LIN7A', 'O08919|NUMBL', 'Q9JLM8|DCLK1', 'Q7TPR4|ACTN1', 'Q9CXI5|MANF', 'Q80TZ3|AUXI', 'Q61035|SYHC', 'Q9R1V4|ADA11', 'Q9Z0E0|NCDN', 'P04925|PRIO', 'P70414|NAC1', 'Q9WTM5|RUVB2', 'B0V2N1|PTPRS', 'Q9Z127|LAT1', 'Q05512|MARK2', 'Q61545|EWS', 'Q9Z0J4|NOS1', 'Q9D023|MPC2', 'Q5SVL6|RPGP2', 'P83940|ELOC', 'Q9QZE5|COPG1', 'P97447|FHL1', 'A6H5Z3|EXC6B', 'Q4KUS2|UN13A', 'Q3B7Z2|OSBP1', 'Q99PV0|PRP8', 'Q9DB41|GHC2', 'Q9CQF4|CF203', 'Q99L04|DHRS1', 'Q9DCT8|CRIP2', 'Q9DB27|MCTS1', 'Q9CPW4|ARPC5', 'P62748|HPCL1', 'Q9D1D4|TMEDA', 'G5E829|AT2B1', 'P08414|KCC4', 'O35685|NUDC', 'Q9EPU0|RENT1', 'Q3UVL4|VPS51', 'Q9Z2I2|FKB1B', 'Q6X893|CTL1', 'Q8VHK5|MLC1', 'Q8BW96|KCC1D', 'P05480|SRC', 'Q9WUB3|PYGM', 'Q91Z31|PTBP2', 'Q8VBV7|CSN8', 'Q80SW1|SAHH2', 'Q5SQX6|CYFP2', 'Q9ESJ4|SPN90', 'Q6P9K9|NRX3A', 'Q9R0X4|ACOT9', 'Q91XU3|PI42C', 'Q8K596|NAC2', 'P59108|CPNE2', 'Q9D1X0|NOL3', 'P36916|GNL1', 'Q9CQR2|RS21', 'Q8BHZ0|FA49A', 'P20357|MTAP2', 'Q9CX86|ROA0', 'Q641P0|ARP3B', 'P62806|H4', 'Q61490|CD166', 'Q62059|CSPG2', 'Q9D1E6|TBCB', 'Q99M71|EPDR1', 'Q02248|CTNB1', 'Q99L13|3HIDH', 'P14733|LMNB1', 'Q9JI90|RNF14', 'Q6IRU2|TPM4', 'P55088|AQP4', 'Q5SSL4|ABR', 'Q8CHG7|RPGF2', 'Q71LX4|TLN2', 'P70175|DLG3', 'Q5DQR4|STB5L', 'Q3THW5|H2AV', 'Q9D2N4|DTNA', 'Q8CIB5|FERM2', 'Q8VDP4|CCAR2', 'Q9JJZ2|TBA8', 'Q9JL62|GLTP', 'Q9JKN6|NOVA1', 'Q921I1|TRFE', 'Q9Z1N5|DX39B', 'Q9D1T0|LIGO1', 'O54829|RGS7', 'Q8VBZ3|CLPT1', 'Q4VAE3|TMM65', 'P52503|NDUS6', 'Q8BH57|WDR48', 'Q8K0G5|EIPR1', 'P13707|GPDA', 'Q9Z1B3|PLCB1', 'Q00493|CBPE', 'Q9QXZ0|MACF1', 'P61028|RAB8B', 'Q61330|CNTN2', 'Q5EBJ4|ERMIN', 'Q6P069|SORCN', 'P62315|SMD1', 'Q921F4|HNRLL', 'P24288|BCAT1', 'O88696|CLPP', 'Q9JII5|DAZP1', 'Q80UU9|PGRC2', 'Q80VP1|EPN1', 'Q61301|CTNA2', 'P97797|SHPS1', 'Q9D7G0|PRPS1', 'Q8BIW1|PRUN1', 'Q9WU28|PFD5', 'Q6PA06|ATLA2', 'Q9DAW9|CNN3', 'Q8BHL5|ELMO2', 'Q9CQ65|MTAP', 'Q9R1P3|PSB2', 'P28740|KIF2A', 'Q61016|GBG7', 'P26516|PSMD7', 'Q91VR7|MLP3A', 'Q80WJ7|LYRIC', 'Q6W8Q3|PC4L1', 'P52760|RIDA', 'P61329|FGF12', 'Q8CBW3|ABI1', 'Q812A2|SRGP3', 'Q9WTT4|VATG2', 'Q9CPU4|MGST3', 'P43406|ITAV', 'O54833|CSK22', 'P62823|RAB3C', 'P61294|RAB6B', 'Q63912|OMGP', 'P47791|GSHR', 'P48678|LMNA', 'P62307|RUXF', 'Q04690|NF1', 'Q9JK48|SHLB1', 'Q8BKX1|BAIP2', 'Q9EQU5|SET', 'Q8BFU3|RN214', 'Q9CQN1|TRAP1', 'P46096|SYT1', 'P11404|FABPH', 'Q9QXS6|DREB', 'Q6PFR5|TRA2A', 'Q9QXV0|PCSK1', 'Q3TMH2|SCRN3', 'P23927|CRYAB', 'Q78JW9|UBFD1', 'P46935|NEDD4', 'P62334|PRS10', 'Q8CHT0|AL4A1', 'Q8BXZ1|TMX3', 'P97494|GSH1', 'Q61553|FSCN1', 'P26369|U2AF2', 'P24270|CATA', 'Q62446|FKBP3', 'P63168|DYL1', 'O35643|AP1B1', 'P20444|KPCA', 'Q80X80|C2C2L', 'Q61411|RASH', 'Q9CQZ1|HSBP1', 'P63158|HMGB1', 'Q9CQI3|GMFB', 'Q99PU5|ACBG1', 'Q91VW3|SH3L3', 'P56564|EAA1', 'P97807|FUMH', 'Q9WVA4|TAGL2', 'Q68FF6|GIT1', 'P62743|AP2S1', 'P22723|GBRG2', 'Q8R191|SNG3', 'Q6PGN3|DCLK2', 'Q5FWK3|RHG01', 'O08917|FLOT1', 'Q9CPX6|ATG3', 'Q9Z239|PLM', 'P58771|TPM1', 'Q9D328|TM35A', 'O35954|PITM1', 'Q9DAR7|DCPS', 'Q9CWE0|MFR1L', 'P31786|ACBP', 'P62073|TIM10', 'Q8CHX7|RFTN2', 'Q03958|PFD6', 'Q8C854|MYEF2', 'Q8VE47|UBA5', 'O88343|S4A4', 'Q61699|HS105', 'O35136|NCAM2', 'Q8C0L0|TMX4', 'P28667|MRP', 'Q8CGY8|OGT1', 'P22315|HEMH', 'O89053|COR1A', 'P60229|EIF3E', 'P12849|KAP1', 'Q91VR8|BRK1', 'Q9CWJ9|PUR9', 'Q9CR00|PSMD9', 'Q64332|SYN2', 'P62075|TIM13', 'P30416|FKBP4', 'P55012|S12A2', 'Q91Z67|SRGP2', 'Q8VDM4|PSMD2', 'A2A699|F1712', 'Q91YR1|TWF1', 'Q8BX70|VP13C', 'P63213|GBG2', 'P51859|HDGF', 'Q9R1T2|SAE1', 'P10518|HEM2', 'O70443|GNAZ', 'Q99JY9|ARP3', 'O88998|NOE1', 'Q62108|DLG4', 'Q80U28|MADD', 'Q63844|MK03', 'Q8R071|IP3KA', 'Q9QZQ8|H2AY', 'Q9DBC7|KAP0', 'P14231|AT1B2', 'Q8R4N0|CLYBL', 'P28660|NCKP1', 'Q80XI3|IF4G3', 'P85094|ISC2A', 'Q8K3H0|DP13A', 'P97742|CPT1A', 'Q8CG76|ARK72', 'Q7TQD2|TPPP', 'Q62283|TSN7', 'P62908|RS3', 'Q3UEB3|PUF60', 'Q9Z2X1|HNRPF', 'Q9QYB8|ADDB', 'Q3UHB1|NT5D3', 'Q2M3X8|PHAR1', 'Q8BJU0|SGTA', 'Q640R3|HECAM', 'P54775|PRS6B', 'Q8BLK3|LSAMP', 'Q8BLJ3|PLCX3', 'P56375|ACYP2', 'Q8R127|SCPDL', 'Q6NZJ6|IF4G1', 'Q9CQJ6|DENR', 'P61222|ABCE1', 'Q6ZWV3|RL10', 'P62751|RL23A', 'Q9JLV5|CUL3', 'Q8BGB7|ENOPH', 'P54823|DDX6', 'Q9ERI6|RDH14', 'Q63810|CANB1', 'Q68ED7|CRTC1', 'P36536|SAR1A', 'O09167|RL21', 'Q8VHH5|AGAP3', 'P03903|NU4LM', 'Q8CIG8|ANM5', 'P50544|ACADV', 'Q01405|SC23A', 'Q9D164|FXYD6', 'Q9CYG7|TOM34', 'P23818|GRIA1', 'O35678|MGLL', 'Q61656|DDX5', 'P62918|RL8', 'D3YZU1|SHAN1', 'Q99J99|THTM', 'O88428|PAPS2', 'Q62188|DPYL3', 'P39054|DYN2', 'Q6PHZ2|KCC2D', 'P61022|CHP1', 'Q91YJ2|SNX4', 'Q9EPJ9|ARFG1', 'Q99KP6|PRP19', 'Q62443|NPTX1', 'Q9JLJ2|AL9A1', 'P60603|ROMO1', 'Q80TM9|NISCH', 'Q8CBY8|DCTN4', 'Q8QZS1|HIBCH', 'Q8CCT4|TCAL5', 'Q3TEA8|HP1B3', 'Q8C163|EXOG', 'P70398|USP9X', 'P04627|ARAF', 'Q99K51|PLST', 'O09114|PTGDS', 'Q8VD65|PI3R4', 'Q148V7|K1468', 'P18052|PTPRA', 'Q9DC69|NDUA9', 'Q80UP3|DGKZ', 'Q921M3|SF3B3', 'P63328|PP2BA', 'P60840|ENSA', 'P16388|KCNA1', 'O70133|DHX9', 'Q60902|EP15R', 'Q9D415|DLGP1', 'Q8VDJ3|VIGLN', 'Q2NL51|GSK3A', 'P31938|MP2K1', 'Q6R891|NEB2', 'P40336|VP26A', 'Q62393|TPD52', 'Q920I9|WDR7', 'O08914|FAAH1', 'O70252|HMOX2', 'Q9QUI0|RHOA', 'O35215|DOPD', 'P12382|PFKAL', 'Q9DCS3|MECR', 'Q5M8N0|CNRP1', 'P62812|GBRA1', 'Q9R0K7|AT2B2', 'Q9WUR2|ECI2', 'Q3U0V1|FUBP2', 'Q9CR26|VTA1', 'Q8K400|STXB5', 'Q9CQX2|CYB5B', 'P02798|MT2', 'Q9JIS5|SV2A', 'Q9D5T0|ATAD1', 'Q9CQ89|CUTA', 'Q80U63|MFN2', 'Q9D172|GAL3A', 'Q6PDM2|SRSF1', 'Q78PY7|SND1', 'O54946|DNJB6', 'Q9JKV1|ADRM1', 'Q9Z1P6|NDUA7', 'Q9EST5|AN32B', 'Q60865|CAPR1', 'Q9CPU2|NDUB2', 'Q62351|TFR1', 'P54071|IDHP', 'Q80U23|SNPH', 'Q8R2R9|AP3M2', 'P62331|ARF6', 'P06837|NEUM', 'Q9QYB1|CLIC4', 'Q8VHI6|WASF3', 'Q91ZU6|DYST', 'Q9CZW4|ACSL3', 'P70202|LXN', 'P43006|EAA2', 'P19253|RL13A', 'Q9D358|PPAC', 'Q9Z0P5|TWF2', 'P20352|TF', 'P62869|ELOB', 'Q8CAA7|PGM2L', 'Q9CXU9|EIF1B', 'Q8R0S4|CACB4', 'P61021|RAB5B', 'P31648|SC6A1', 'P50429|ARSB', 'Q62093|SRSF2', 'Q9JIW9|RALB', 'P53996|CNBP', 'Q3UNH4|GRIN1', 'Q8BG39|SV2B', 'Q5DTL9|S4A10', 'P63085|MK01', 'Q99JI4|PSMD6', 'Q8BJI1|S6A17', 'Q60598|SRC8', 'Q9CQM5|TXD17', 'Q9Z1G3|VATC1', 'Q9CZY3|UB2V1', 'Q923T9|KCC2G', 'Q9JKD3|SCAM5', 'P35762|CD81', 'Q8R570|SNP47', 'P20152|VIME', 'P35235|PTN11', 'Q8R010|AIMP2', 'O35874|SATT', 'B9EJA2|CTTB2', 'P32067|LA', 'P62137|PP1A', 'Q8C7M3|TRIM9', 'Q8R0S2|IQEC1', 'Q9QXY6|EHD3', 'P26043|RADI', 'Q99PJ0|NTRI', 'Q921F2|TADBP', 'Q9D8B3|CHM4B', 'P48774|GSTM5', 'P08551|NFL', 'Q9CQJ8|NDUB9', 'Q7TQ95|LNP', 'Q9JM76|ARPC3', 'P62320|SMD3', 'Q9DBS2|TPRGL', 'Q62318|TIF1B', 'Q9Z2Q6|SEPT5', 'Q7TMY8|HUWE1', 'Q8VD33|SGTB', 'Q8BL97|SRSF7', 'P56812|PDCD5', 'P56959|FUS', 'Q8R464|CADM4', 'P62835|RAP1A', 'Q3UMR5|MCU', 'E9Q6P5|TTC7B', 'Q7M6Y3|PICAL', 'P26645|MARCS', 'P48036|ANXA5', 'P26883|FKB1A', 'P01831|THY1', 'B1AXV0|FRS1L', 'Q9CRA7|ATP5S', 'Q501J6|DDX17', 'P28352|APEX1', 'Q8BMJ2|SYLC', 'Q6ZQ18|EFR3B', 'Q91X97|NCALD', 'Q99JI6|RAP1B', 'Q8BG51|MIRO1', 'P62264|RS14', 'P05063|ALDOC', 'P15116|CADH2', 'P46660|AINX', 'Q922Q4|P5CR2', 'Q9ESW4|AGK', 'Q9CPW0|CNTP2', 'Q9D0M3|CY1', 'Q505D7|OPA3', 'Q8BPN8|DMXL2', 'Q9D5V5|CUL5', 'Q9Z0Y1|DCTN3', 'Q61206|PA1B2', 'Q9JMA1|UBP14', 'O35127|C10', 'P46460|NSF', 'P50247|SAHH', 'Q9CR21|ACPM', 'Q64737|PUR2', 'Q91WJ8|FUBP1', 'Q4KMM3|OXR1', 'Q791T5|MTCH1', 'P27612|PLAP', 'P00405|COX2', 'Q9JLZ3|AUHM', 'Q9JIA1|LGI1', 'Q6P1F6|2ABA', 'Q9D832|DNJB4', 'O09117|SYPL1', 'P70232|NCHL1', 'Q80X50|UBP2L', 'Q9Z1Z0|USO1', 'Q9D880|TIM50', 'Q9Z1X4|ILF3', 'P09405|NUCL', 'Q91WC3|ACSL6', 'O70161|PI51C', 'Q922H2|PDK3', 'P40240|CD9', 'Q3V3R1|C1TM', 'Q9D6U8|F162A', 'Q9CXS4|CENPV', 'P47199|QOR', 'P50580|PA2G4', 'Q8BL65|ABLM2', 'O70310|NMT1', 'P23819|GRIA2', 'Q62465|VAT1', 'Q922D8|C1TC', 'P62746|RHOB', 'Q9EPW0|INP4A', 'Q9CQ22|LTOR1', 'P28656|NP1L1', 'Q69ZK9|NLGN2', 'Q91VE0|S27A4', 'Q8R326|PSPC1', 'O08529|CAN2', 'P21107|TPM3', 'Q8R016|BLMH', 'Q9CQF3|CPSF5', 'Q9DD18|DTD1', 'P62774|MTPN', 'Q8C1B7|SEP11', 'Q8K212|PACS1', 'Q6ZWU9|RS27', 'O35609|SCAM3', 'Q9QXL2|KI21A', 'Q9D710|TMX2', 'Q9QYF9|NDRG3', 'Q9D0L8|MCES', 'Q05816|FABP5', 'P14685|PSMD3', 'Q8BMS4|COQ3', 'P62082|RS7', 'P47754|CAZA2', 'Q9R1Q8|TAGL3', 'Q9CR16|PPID', 'Q9DAK9|PHP14', 'P20917|MAG', 'Q9CVB6|ARPC2', 'Q8BH66|ATLA1', 'O88545|CSN6', 'P39053|DYN1', 'Q8VEK3|HNRPU', 'P03921|NU5M', 'Q2PFD7|PSD3', 'Q9D1L0|CHCH2', 'P63141|KCNA2', 'Q9CQZ5|NDUA6', 'P97370|AT1B3', 'Q9CWM4|PFD1', 'Q8R574|KPRB', 'O88441|MTX2', 'Q8BFY6|PEF1', 'Q9CQW1|YKT6', 'Q9CRB9|MIC19', 'P17426|AP2A1', 'Q9D6M3|GHC1', 'Q9WV34|MPP2', 'Q9CYN9|RENR', 'Q9Z130|HNRDL', 'Q3UHX2|HAP28', 'P51410|RL9', 'P63242|IF5A1', 'Q99JR1|SFXN1', 'P48320|DCE2', 'Q6WVG3|KCD12', 'Q8BGN8|SYNPR', 'Q9R1V6|ADA22', 'P54728|RD23B', 'Q9WUM3|COR1B', 'Q9QUR7|PIN1', 'P40124|CAP1', 'O35381|AN32A', 'Q8BP92|RCN2', 'O88851|RBBP9', 'Q9Z2D6|MECP2', 'Q8BG05|ROA3', 'Q8VDN2|AT1A1', 'Q91WQ3|SYYC', 'P70704|AT8A1', 'Q9Z204|HNRPC', 'P34022|RANG', 'P56376|ACYP1', 'Q99MK8|ARBK1', 'P68033|ACTC', 'Q9D3D9|ATPD', 'Q8BNY6|NCS1', 'Q62277|SYPH', 'P62911|RL32', 'Q9CYT6|CAP2', 'Q99LR1|ABD12', 'Q3TXX4|VGLU1', 'Q9Z0S1|BPNT1', 'P02802|MT1', 'Q8BVQ5|PPME1', 'Q9CQF9|PCYOX', 'Q3ULJ0|GPD1L', 'Q5SSM3|RHG44', 'Q8CAY6|THIC', 'Q9D1G5|LRC57', 'Q62419|SH3G1', 'Q60749|KHDR1', 'Q62433|NDRG1', 'O09131|GSTO1', 'P70336|ROCK2', 'Q60668|HNRPD', 'Q6ZPJ3|UBE2O', 'O54984|ASNA', 'Q80T41|GABR2', 'Q91WK5|GCSH', 'P08003|PDIA4', 'Q9CPS6|HINT3', 'Q7TMM9|TBB2A', 'O70503|DHB12', 'P99024|TBB5', 'Q61166|MARE1', 'Q9JJV2|PROF2', 'Q9JJU8|SH3L1', 'P59999|ARPC4', 'Q9DB15|RM12', 'P62717|RL18A', 'P08553|NFM', 'Q9JHK4|PGTA', 'P33173|KIF1A', 'Q80Y14|GLRX5', 'O88935|SYN1', 'Q61644|PACN1', 'P61164|ACTZ', 'P68404|KPCB', 'O35465|FKBP8', 'Q922Q1|MARC2', 'Q91W50|CSDE1', 'O55013|TPPC3', 'Q60597|ODO1', 'Q9CR95|NECP1', 'P31650|S6A11', 'Q8K2B3|SDHA', 'P97379|G3BP2', 'P63216|GBG3', 'Q9CWS0|DDAH1', 'P23198|CBX3', 'Q9DC51|GNAI3', 'P24527|LKHA4', 'P40237|CD82', 'P49442|INPP', 'Q8C522|ENDD1', 'P14131|RS16', 'Q80VD1|FA98B', 'P14824|ANXA6', 'Q791V5|MTCH2', 'Q9R0Q6|ARC1A', 'Q99KK2|NEUA', 'O88712|CTBP1', 'P28663|SNAB', 'P57759|ERP29', 'P57780|ACTN4', 'P14152|MDHC', 'P45878|FKBP2', 'P97315|CSRP1', 'Q99MR8|MCCA', 'P37040|NCPR', 'P06151|LDHA', 'Q9D892|ITPA', 'Q9CQ92|FIS1', 'Q91VI7|RINI', 'Q9D1M0|SEC13', 'O70493|SNX12', 'Q9CXW3|CYBP', 'Q80TS3|AGRL3', 'Q9QYG0|NDRG2', 'Q810U4|NRCAM', 'Q99JP7|GGT7', 'P50516|VATA', 'Q07076|ANXA7', 'Q9CQ60|6PGL', 'P62500|T22D1', 'O35658|C1QBP', 'Q9JI46|NUDT3', 'Q9CQ69|QCR8', 'Q9WUA3|PFKAP', 'Q8VIJ6|SFPQ', 'Q9JMH6|TRXR1', 'O35250|EXOC7', 'Q61151|2A5E', 'Q7TMK9|HNRPQ', 'O55126|NIPS2', 'Q9WV55|VAPA', 'Q9CQ62|DECR', 'Q9CPY7|AMPL', 'Q9CPP6|NDUA5', 'P67984|RL22', 'Q6P9R2|OXSR1', 'P32921|SYWC', 'Q91V92|ACLY', 'Q61292|LAMB2', 'Q9Z218|DPP6', 'P60202|MYPR', 'P35282|RAB21', 'Q8K1Z0|COQ9', 'Q62048|PEA15', 'Q80YN3|BCAS1', 'Q91WD5|NDUS2', 'Q8BTG7|NDRG4', 'P47753|CAZA1', 'O09111|NDUBB', 'Q91VR5|DDX1', 'O88342|WDR1', 'A2ALS5|RPGP1', 'Q8BKX6|SMG1', 'P00920|CAH2', 'Q8CBE3|WDR37', 'Q99JB2|STML2', 'Q91VZ6|SMAP1', 'P61750|ARF4', 'Q9JME5|AP3B2', 'Q9Z0P4|PALM', 'Q925I1|ATAD3', 'Q922J6|TSN2', 'Q61792|LASP1', 'Q8BHL3|TB10B', 'O55022|PGRC1', 'Q9DCR2|AP3S1', 'P12787|COX5A', 'P04370|MBP', 'P42125|ECI1', 'Q8VEK0|CC50A', 'Q9EQF6|DPYL5', 'P84091|AP2M1', 'Q5XJY5|COPD', 'P32037|GTR3', 'Q8BUV3|GEPH', 'Q9CWZ7|SNAG', 'Q93092|TALDO', 'Q9EPN1|NBEA', 'Q9D1K2|VATF', 'P60843|IF4A1', 'Q91WG7|DGKG', 'P49443|PPM1A', 'Q9D051|ODPB', 'P03888|NU1M', 'P61161|ARP2', 'Q60780|GAS7', 'P99026|PSB4', 'Q80Z38|SHAN2', 'Q6NXK7|DPP10', 'P51174|ACADL', 'P58281|OPA1', 'Q8BWG8|ARRB1', 'P32020|NLTP', 'Q99LB6|MAT2B', 'P0DP60|LYNX1', 'Q9Z2H5|E41L1', 'O88531|PPT1', 'Q91VN4|MIC25', 'O08547|SC22B', 'Q8VDD5|MYH9', 'Q8BP67|RL24', 'Q9CQH7|BT3L4', 'Q8C8T8|TSR2', 'P62962|PROF1', 'Q921G7|ETFD', 'Q8CCK0|H2AW', 'Q8BG32|PSD11', 'P70349|HINT1', 'P53986|MOT1', 'Q9DB05|SNAA', 'Q99LX0|PARK7', 'P62141|PP1B', 'Q91VM9|IPYR2', 'P19157|GSTP1', 'Q9QUP5|HPLN1', 'Q8BH04|PCKGM', 'O55023|IMPA1', 'Q3UM45|PP1R7', 'Q61885|MOG', 'Q3UYC0|PPM1H', 'P03911|NU4M', 'P56391|CX6B1', 'P63037|DNJA1', 'P62881|GNB5', 'P47809|MP2K4', 'O88990|ACTN3', 'Q9R1P1|PSB3', 'P62880|GBB2', 'Q04447|KCRB', 'P28652|KCC2B', 'P52196|THTR', 'Q920E5|FPPS', 'Q9DCZ4|MIC26', 'Q9D0S9|HINT2', 'P47963|RL13', 'P12367|KAP2', 'Q9D3A9|TTYH1', 'Q61361|PGCB', 'P15105|GLNA', 'Q8BWT1|THIM', 'Q8CHU3|EPN2', 'Q9QYC0|ADDA', 'Q6NZL0|SOGA3', 'P54227|STMN1', 'Q8BXV2|BRI3B', 'Q64105|SPRE', 'Q9D0I9|SYRC', 'P68372|TBB4B', 'Q9CS84|NRX1A', 'P47911|RL6', 'Q8VD37|SGIP1', 'P50518|VATE1', 'P51863|VA0D1', 'Q3UHJ0|AAK1', 'Q8BKC5|IPO5', 'Q9R0P9|UCHL1', 'P29758|OAT', 'Q924M7|MPI', 'Q99JY0|ECHB', 'P46471|PRS7', 'Q811D0|DLG1', 'P17809|GTR1', 'Q9QUR6|PPCE', 'Q8CDN6|TXNL1', 'Q5SXY1|CYTSB', 'Q80UW2|FBX2', 'Q9CX34|SGT1', 'Q8BMS1|ECHA', 'P35802|GPM6A', 'P62814|VATB2', 'Q8JZN5|ACAD9', 'Q9D7X3|DUS3', 'O08915|AIP', 'Q64133|AOFA', 'P16330|CN37', 'Q6ZQI3|MLEC', 'P23242|CXA1', 'Q8C0M9|ASGL1', 'Q8BK64|AHSA1', 'O35143|ATIF1', 'Q3TDK6|ROGDI', 'Q9CZ42|NNRD', 'Q6PIE5|AT1A2', 'Q9WUL7|ARL3', 'P41105|RL28', 'P16125|LDHB', 'Q3UHD6|SNX27', 'Q61102|ABCB7', 'P84084|ARF5', 'Q9CQV8|1433B', 'Q62261|SPTB2', 'O88487|DC1I2', 'Q9Z0H4|CELF2', 'P63276|RS17', 'Q8R1B4|EIF3C', 'Q6PCP5|MFF', 'P51150|RAB7A', 'P41216|ACSL1', 'P62196|PRS8', 'P27601|GNA13', 'Q8BK30|NDUV3', 'Q3THK7|GUAA', 'Q8R164|BPHL', 'Q9JKR6|HYOU1', 'P17710|HXK1', 'P84086|CPLX2', 'Q5PR73|DIRA2', 'Q9QWI6|SRCN1', 'P62482|KCAB2', 'P63001|RAC1', 'Q9Z2I8|SUCB2', 'Q91Z53|GRHPR', 'P68510|1433F', 'P08228|SODC', 'Q3THS6|METK2', 'P55302|AMRP', 'Q91V61|SFXN3', 'P61205|ARF3', 'P17742|PPIA', 'P05064|ALDOA', 'P70372|ELAV1', 'Q99020|ROAA', 'P62631|EF1A2', 'P97822|AN32E', 'Q9QY76|VAPB', 'Q8K0T0|RTN1', 'P11031|TCP4', 'Q99KB8|GLO2', 'O89112|LANC1', 'Q60870|REEP5', 'Q9WUK2|IF4H', 'Q9QZM0|UBQL2', 'Q9D0E1|HNRPM', 'P63011|RAB3A', 'O88844|IDHC', 'O54991|CNTP1', 'Q4VAA2|CDV3', 'A2A432|CUL4B', 'P61922|GABT', 'Q64727|VINC', 'P56380|AP4A', 'Q9ERD7|TBB3', 'Q8R081|HNRPL', 'Q9Z0N1|IF2G', 'Q76MZ3|2AAA', 'P84096|RHOG', 'P70404|IDHG1', 'P05132|KAPCA', 'Q9JLN9|MTOR', 'B2RSH2|GNAI1', 'Q8BFZ9|ERLN2', 'P63330|PP2AA', 'P00493|HPRT', 'Q9DBE8|ALG2', 'Q8VCW8|ACSF2', 'Q9CPV4|GLOD4', 'Q9WUR9|KAD4', 'P62281|RS11', 'P23506|PIMT', 'Q9DCW4|ETFB', 'Q99N28|CADM3', 'O35226|PSMD4', 'P27546|MAP4', 'Q8K0U4|HS12A', 'Q64521|GPDM', 'Q91ZX7|LRP1', 'P61971|NTF2', 'Q80XI4|PI42B', 'Q9D6K8|FUND2', 'Q9ERK4|XPO2', 'P63101|1433Z', 'Q3UPL0|SC31A', 'P47962|RL5', 'Q61753|SERA', 'O70325|GPX4', 'Q60996|2A5G', 'Q9WV98|TIM9', 'Q9ES97|RTN3', 'Q9CXY6|ILF2', 'P19096|FAS', 'Q9JKK7|TMOD2', 'Q9Z2U1|PSA5', 'P18242|CATD', 'Q8BGD9|IF4B', 'Q8R0A5|TCAL3', 'Q6P1B1|XPP1', 'O88544|CSN4', 'O08599|STXB1', 'P97300|NPTN', 'Q9JJK2|LANC2', 'Q9JHI5|IVD', 'P57746|VATD', 'Q922R8|PDIA6', 'P62983|RS27A', 'E9PUL5|PRRT2', 'P45376|ALDR', 'P97450|ATP5J', 'Q91V41|RAB14', 'Q5SRX1|TM1L2', 'P23116|EIF3A', 'P61027|RAB10', 'Q9JIF0|ANM1', 'P61264|STX1B', 'O08788|DCTN1', 'Q9R1P4|PSA1', 'Q9Z1G4|VPP1', 'Q99NE5|RIMS1', 'Q9CXW4|RL11', 'O70318|E41L2', 'O35927|CTND2', 'Q8CI94|PYGB', 'Q8BVI4|DHPR', 'Q8K021|SCAM1', 'Q9JLB0|MPP6', 'Q8BZ98|DYN3', 'Q8VCT3|AMPB', 'Q3UGR5|HDHD2', 'P47757|CAPZB', 'Q6ZWX6|IF2A', 'P35585|AP1M1', 'Q9WV92|E41L3', 'Q61187|TS101', 'Q9DBP5|KCY', 'Q9D0F9|PGM1', 'Q99KV1|DJB11', 'Q9CR51|VATG1', 'Q9CY58|PAIRB', 'Q9DBG3|AP2B1', 'Q8K310|MATR3', 'P35700|PRDX1', 'Q7TMF3|NDUAC', 'Q9CQ85|TIM22', 'Q9CY64|BIEA', 'Q9D8B4|NDUAB', 'Q8BW75|AOFB', 'Q9JIF7|COPB', 'Q8R001|MARE2', 'Q9ER00|STX12', 'Q9CQC7|NDUB4', 'Q8C0E2|VP26B', 'P63028|TCTP', 'O88569|ROA2', 'O88456|CPNS1', 'Q9WV60|GSK3B', 'P18872|GNAO', 'P28738|KIF5C', 'P14873|MAP1B', 'Q9CR62|M2OM', 'P60867|RS20', 'G5E8K5|ANK3', 'P09671|SODM', 'P27659|RL3', 'P70670|NACAM', 'P58389|PTPA', 'Q69Z98|BRSK2', 'P55264|ADK', 'Q80TJ1|CAPS1', 'F8VPU2|FARP1', 'O08709|PRDX6', 'Q9CQD1|RAB5A', 'O88746|TOM1', 'Q7TQI3|OTUB1', 'O70435|PSA3', 'Q9CR68|UCRI', 'P62270|RS18', 'Q60692|PSB6', 'Q80Z24|NEGR1', 'Q8R5J9|PRAF3', 'Q9DBF1|AL7A1', 'P47857|PFKAM', 'Q8BH55|THNS1', 'P56399|UBP5', 'Q9QXS1|PLEC', 'P53026|RL10A', 'Q3UVX5|GRM5', 'Q6PEB6|PHOCN', 'P62192|PRS4', 'Q91YQ5|RPN1', 'E9Q557|DESP', 'P22892|AP1G1', 'P61979|HNRPK', 'Q9D1G1|RAB1B', 'P11627|L1CAM', 'P62761|VISL1', 'Q60737|CSK21', 'O89051|ITM2B', 'P26638|SYSC', 'Q9R0Y5|KAD1', 'P40142|TKT', 'Q91ZA3|PCCA', 'Q9D394|RUFY3', 'Q8JZQ9|EIF3B', 'P08752|GNAI2', 'Q8BIJ6|SYIM', 'Q9QYR6|MAP1A', 'P49722|PSA2', 'Q9CQI6|COTL1', 'P28474|ADHX', 'Q9R1T4|SEPT6', 'P09103|PDIA1', 'Q60605|MYL6', 'P21278|GNA11', 'Q9DCX2|ATP5H', 'P27773|PDIA3', 'Q922Q8|LRC59', 'Q8BTI8|SRRM2', 'Q91ZJ5|UGPA', 'P06745|G6PI', 'Q3TC72|FAHD2', 'Q8BLF1|NCEH1', 'P03930|ATP8', 'Q8BG73|SH3L2', 'Q9ERS2|NDUAD', 'Q11011|PSA', 'Q9QUM9|PSA6', 'Q80VP0|TCPR1', 'O08795|GLU2B', 'P99029|PRDX5', 'Q9CR57|RL14', 'O88643|PAK1', 'Q9WV80|SNX1', 'Q9DCD0|6PGD', 'Q8R366|IGSF8', 'Q8BH59|CMC1', 'P17427|AP2A2', 'Q9CR67|TMM33', 'O35633|VIAAT', 'Q60771|CLD11', 'O35098|DPYL4', 'Q9JMH9|MY18A', 'P80315|TCPD', 'Q6P9K8|CSKI1', 'O35682|MYADM', 'P47738|ALDH2', 'P10637|TAU', 'Q60631|GRB2', 'O88485|DC1I1', 'Q9Z2U0|PSA7', 'P97427|DPYL1', 'P70441|NHRF1', 'Q8BGQ7|SYAC', 'Q61937|NPM', 'Q6IRU5|CLCB', 'P12960|CNTN1', 'Q9JMG7|HDGR3', 'Q9D0M5|DYL2', 'Q921J2|RHEB', 'Q80XN0|BDH', 'P42208|SEPT2', 'P63073|IF4E', 'Q9JII6|AK1A1', 'P62830|RL23', 'Q7TQF7|AMPH', 'P53994|RAB2A', 'Q6PER3|MARE3', 'Q8R0Y6|AL1L1', 'P48758|CBR1', 'Q6PHN9|RAB35', 'Q8BRT1|CLAP2', 'Q8CAQ8|MIC60', 'Q9Z1Z2|STRAP', 'Q8BVE3|VATH', 'Q99MN9|PCCB', 'O54774|AP3D1', 'P24472|GSTA4', 'Q9R0P3|ESTD', 'P62900|RL31', 'P14211|CALR', 'Q9D6F9|TBB4A', 'P07901|HS90A', 'P63005|LIS1', 'P49312|ROA1', 'P35564|CALX', 'Q8C1A5|THOP1', 'Q9D8Y0|EFHD2', 'Q8BP47|SYNC', 'Q925N0|SFXN5', 'Q91ZZ3|SYUB', 'P00158|CYB', 'P70168|IMB1', 'P61255|RL26', 'P14148|RL7', 'P48771|CX7A2', 'P70663|SPRL1', 'P28658|ATX10', 'Q9JHU4|DYHC1', 'Q9CQH3|NDUB5', 'Q91VR2|ATPG', 'P10649|GSTM1', 'Q8C729|F126B', 'P38647|GRP75', 'Q99P72|RTN4', 'Q9Z0X1|AIFM1', 'P48722|HS74L', 'P61202|CSN2', 'Q60930|VDAC2', 'Q8BKZ9|ODPX', 'P63318|KPCG', 'Q64514|TPP2', 'O55125|NIPS1', 'P16858|G3P', 'Q91V14|S12A5', 'Q8BGH2|SAM50', 'A2AJI0|MA7D1', 'P67871|CSK2B', 'Q78ZA7|NP1L4', 'Q7TSJ2|MAP6', 'Q8CGK3|LONM', 'P09411|PGK1', 'Q9CYH2|F213A', 'Q8K1M6|DNM1L', 'A2AGT5|CKAP5', 'Q9WVJ2|PSD13', 'P60487|PLPP', 'P10852|4F2', 'Q9EQH3|VPS35', 'Q9D6R2|IDH3A', 'Q9D8E6|RL4', 'O08539|BIN1', 'P62821|RAB1A', 'Q60676|PPP5', 'P99028|QCR6', 'P10605|CATB', 'Q8K0S0|PHYIP', 'Q8K2C9|HACD3', 'Q91WS0|CISD1', 'B9EKR1|PRPTZ', 'P63087|PP1G', 'Q8CHH9|SEPT8', 'P17182|ENOA', 'O88741|GDAP1', 'P35979|RL12', 'Q9CZD3|GARS', 'Q9Z1S5|SEPT3', 'Q9R0Q7|TEBP', 'P31230|AIMP1', 'Q6PB66|LPPRC', 'Q9D898|ARP5L', 'P18572|BASI', 'P62897|CYC', 'P60122|RUVB1', 'Q9D1A2|CNDP2', 'P19536|COX5B', 'Q9CZ30|OLA1', 'P56135|ATPK', 'Q8BHN3|GANAB', 'O55143|AT2A2', 'Q62418|DBNL', 'P62874|GBB1', 'D3Z7P3|GLSK', 'P20108|PRDX3', 'O08756|HCD2', 'Q99KJ8|DCTN2', 'P62242|RS8', 'P61982|1433G', 'P80316|TCPE', 'O55234|PSB5', 'O08585|CLCA', 'Q06185|ATP5I', 'P68368|TBA4A', 'Q9D1R9|RL34', 'Q61879|MYH10', 'P60335|PCBP1', 'Q9WUA2|SYFB', 'Q9R1V7|ADA23', 'Q64516|GLPK', 'Q06138|CAB39', 'P63321|RALA', 'Q8VED9|LEGL', 'Q6ZWN5|RS9', 'Q3U1J4|DDB1', 'Q8BYI9|TENR', 'Q99L43|CDS2', 'Q9EPL8|IPO7', 'Q9D855|QCR7', 'Q01768|NDKB', 'Q9DAS9|GBG12', 'Q9QYX7|PCLO', 'Q61207|SAP', 'P26350|PTMA', 'P59017|B2L13', 'P21279|GNAQ', 'Q99LC5|ETFA', 'Q9WTX5|SKP1', 'Q8VDQ8|SIR2', 'Q9Z2W8|GRIA4', 'Q9CZW5|TOM70', 'Q64010|CRK', 'P24369|PPIB', 'Q8CGC7|SYEP', 'P26443|DHE3', 'Q6PDL0|DC1L2', 'P11983|TCPA', 'P97351|RS3A', 'P70297|STAM1', 'Q9WUM4|COR1C', 'Q9CR61|NDUB7', 'Q9CQ54|NDUC2', 'Q8C9S4|CC186', 'Q9R1P0|PSA4', 'Q62417|SRBS1', 'Q80TE7|LRRC7', 'P05201|AATC', 'Q99JY8|PLPP3', 'Q9Z2I9|SUCB1', 'Q9CZC8|SCRN1', 'Q8VEM8|MPCP', 'Q9D8W5|PSD12', 'P48962|ADT1', 'P63017|HSP7C', 'Q9Z2W9|GRIA3', 'Q8VE33|GD1L1', 'P15532|NDKA', 'Q9QYJ0|DNJA2', 'Q9DBG6|RPN2', 'P84099|RL19', 'P62855|RS26', 'Q01853|TERA', 'Q8R3V5|SHLB2', 'Q9EQ20|MMSA', 'Q8JZQ2|AFG32', 'Q91YT0|NDUV1', 'Q8K3J1|NDUS8', 'P62627|DLRB1', 'P58252|EF2', 'Q8K4Z3|NNRE', 'Q9DBJ1|PGAM1', 'Q6ZWV7|RL35', 'P68040|RACK1', 'Q9DC70|NDUS7', 'Q99K85|SERC', 'Q6ZQ38|CAND1', 'Q9Z0R4|ITSN1', 'Q9CQ75|NDUA2', 'O55100|SNG1', 'Q9CQA3|SDHB', 'P62858|RS28', 'Q3THE2|ML12B', 'O08997|ATOX1', 'P63260|ACTG', 'Q99LC3|NDUAA', 'P53810|PIPNA', 'P29341|PABP1', 'P14115|RL27A', 'Q91VD9|NDUS1', 'Q922B2|SYDC', 'O08553|DPYL2', 'P60766|CDC42', 'Q9CZB0|C560', 'Q8BWF0|SSDH', 'Q9CYZ2|TPD54', 'Q9Z2I0|LETM1', 'P35486|ODPA', 'P42932|TCPQ', 'Q9DC07|LNEBL', 'P16546|SPTN1', 'P80318|TCPG', 'P14094|AT1B1', 'P0DP27|CALM2', 'P10630|IF4A2', 'Q68FD5|CLH1', 'P61358|RL27', 'Q03265|ATPA', 'Q9D819|IPYR', 'Q9WUM5|SUCA', 'Q9D0K2|SCOT1', 'P10639|THIO', 'P35980|RL18', 'P11499|HS90B', 'P62245|RS15A', 'O88737|BSN', 'Q61171|PRDX2', 'P20029|BIP', 'Q99104|MYO5A', 'Q9WU78|PDC6I', 'O70591|PFD2', 'P35293|RAB18', 'Q9CQQ7|AT5F1', 'P60904|DNJC5', 'P51881|ADT2', 'Q9CZX8|RS19', 'P45591|COF2', 'Q810U3|NFASC', 'Q9CZ13|QCR1', 'Q61548|AP180', 'P46664|PURA2', 'O88447|KLC1', 'Q8BH95|ECHM', 'Q9DCJ5|NDUA8', 'Q5U458|DJC11', 'P80313|TCPH', 'Q05920|PYC', 'Q9CZ44|NSF1C', 'P60879|SNP25', 'Q99LI8|HGS', 'Q78IK2|USMG5', 'Q99KI0|ACON', 'P63323|RS12', 'P80314|TCPB', 'P62702|RS4X', 'Q99LY9|NDUS5', 'Q3TXS7|PSMD1', 'P99027|RLA2', 'P14869|RLA0', 'Q9D8N0|EF1G', 'Q6R0H7|GNAS1', 'P25444|RS2', 'E9Q3L2|PI4KA', 'Q9DB20|ATPO', 'Q62205|SCN9A', 'Q9D6J5|NDUB8', 'Q9QYB5|ADDG', 'Q99PT1|GDIR1', 'Q61316|HSP74', 'P52480|KPYM', 'Q9QZ88|VPS29', 'P17751|TPIS', 'P70296|PEBP1', 'Q61598|GDIB', 'Q8BH44|COR2B', 'Q9R1R2|TRIM3', 'Q9CPQ8|ATP5L', 'P49615|CDK5', 'P05202|AATM', 'O70589|CSKP', 'Q8BGT8|PHIPL', 'P35278|RAB5C', 'Q9QZ06|TOLIP', 'P28184|MT3', 'P57776|EF1D', 'Q6PIC6|AT1A3', 'Q02053|UBA1', 'Q9CQE8|RTRAF', 'O35129|PHB2', 'P67778|PHB', 'P03899|NU3M', 'Q9CXZ1|NDUS4', 'O55131|SEPT7', 'Q9D2G2|ODO2', 'Q9R0P5|DEST', 'O88685|PRS6A', 'Q9CPU0|LGUL', 'P42669|PURA', 'O08749|DLDH', 'Q8BJY1|PSMD5', 'Q60932|VDAC1', 'Q8K183|PDXK', 'O09061|PSB1', 'P62827|RAN', 'O35295|PURB', 'P68254|1433T', 'Q9ESN6|TRIM2', 'P80317|TCPZ', 'Q60931|VDAC3', 'P62889|RL30', 'O70251|EF1B', 'Q8R1I1|QCR9', 'Q99LF4|RTCB', 'Q921M7|FA49B', 'Q9DCN2|NB5R3', 'P56480|ATPB', 'Q8CHP8|PGP', 'P30275|KCRU', 'P14206|RSSA', 'Q8CHC4|SYNJ1', 'Q8R1Q8|DC1L1', 'P18760|COF1', 'P19783|COX41', 'Q64433|CH10', 'Q60864|STIP1', 'Q61990|PCBP2', 'Q9CZU6|CISY', 'P28271|ACOC', 'O35864|CSN5', 'Q9D6J6|NDUV2', 'Q9CQM9|GLRX3', 'Q8BFR5|EFTU', 'Q8R0A7|K0513', 'Q9CZM2|RL15', 'P61089|UBE2N', 'P50396|GDIA', 'P12970|RL7A', 'P34884|MIF', 'Q9DCT2|NDUS3', 'P10126|EF1A1', 'Q91XM9|DLG2', 'Q62420|SH3G2', 'P35803|GPM6B', 'P47708|RP3A', 'Q8C8R3|ANK2', 'P62259|1433E', 'Q8CIE6|COPA', 'P17183|ENOG', 'P63038|CH60', 'P97461|RS5', 'P13595|NCAM1', 'Q91V12|BACH', 'Q8BMF4|ODP2', 'P08249|MDHM', 'Q8C419|GP158', 'P48318|DCE1', 'Q8QZT1|THIL', 'Q99LD4|CSN1', 'Q9DCS9|NDUBA', 'P08113|ENPL', 'Q9DB77|QCR2', 'P46638|RB11B', 'Q99L47|F10A1', 'Q61081|CDC37', 'Q9JKC6|CEND', 'Q62425|NDUA4', 'Q8JZU2|TXTP', 'Q61735|CD47', 'P35283|RAB12'])"
      ]
     },
     "execution_count": 27,
     "metadata": {},
     "output_type": "execute_result"
    }
   ],
   "source": [
    "protein_lists = sorted(protein_tests.keys(), reverse=True)\n",
    "protein_tests = {pval: protein_tests[pval] for pval in protein_lists}\n",
    "proteins = protein_tests.values()\n",
    "proteins"
   ]
  },
  {
   "cell_type": "code",
   "execution_count": 22,
   "metadata": {},
   "outputs": [
    {
     "data": {
      "image/png": "[encoded data removed]",
      "text/plain": [
       "<Figure size 640x480 with 1 Axes>"
      ]
     },
     "metadata": {},
     "output_type": "display_data"
    }
   ],
   "source": [
    "import matplotlib.pyplot as plt\n",
    "\n",
    "plt.hist(protein_tests.keys())\n",
    "plt.show()"
   ]
  },
  {
   "cell_type": "code",
   "execution_count": 26,
   "metadata": {},
   "outputs": [
    {
     "data": {
      "text/plain": [
       "0.9375361480624639"
      ]
     },
     "execution_count": 26,
     "metadata": {},
     "output_type": "execute_result"
    }
   ],
   "source": [
    "vals = protein_tests.keys()\n",
    "stuff = [val for val in vals if val < 0.05]\n",
    "len(stuff)/len(vals)"
   ]
  },
  {
   "cell_type": "code",
   "execution_count": 29,
   "metadata": {},
   "outputs": [
    {
     "data": {
      "text/plain": [
       "['P97355|SPSY',\n",
       " 'Q62426|CYTB',\n",
       " 'O54988|SLK',\n",
       " 'Q8VEH5|EPMIP',\n",
       " 'P62715|PP2AB',\n",
       " 'Q99K48|NONO',\n",
       " 'Q9D0R2|SYTC',\n",
       " 'Q9DB73|NB5R1',\n",
       " 'Q03517|SCG2',\n",
       " 'Q99KC8|VMA5A',\n",
       " 'Q505F5|LRC47',\n",
       " 'P34914|HYES',\n",
       " 'Q9WVE8|PACN2',\n",
       " 'P13020|GELS',\n",
       " 'Q8R2Y0|ABHD6',\n",
       " 'Q8VHL1|SETD7',\n",
       " 'Q9QZB7|ARP10',\n",
       " 'Q6NS52|DGKB',\n",
       " 'O35449|PRRT1',\n",
       " 'O55106|STRN',\n",
       " 'P97371|PSME1',\n",
       " 'Q9Z1L5|CA2D3',\n",
       " 'Q3UQ44|IQGA2',\n",
       " 'Q99LG2|TNPO2',\n",
       " 'Q9D2V7|CORO7',\n",
       " 'Q922E4|PCY2',\n",
       " 'Q9D8B7|JAM3',\n",
       " 'Q8K4G5|ABLM1',\n",
       " 'P16460|ASSY',\n",
       " 'Q8VBY2|KKCC1',\n",
       " 'P97492|RGS14',\n",
       " 'Q8K221|ARFP2',\n",
       " 'P51830|ADCY9',\n",
       " 'Q08460|KCMA1',\n",
       " 'Q61290|CAC1E',\n",
       " 'O70172|PI42A',\n",
       " 'Q8C8N2|SCAI',\n",
       " 'Q9DBL1|ACDSB',\n",
       " 'Q8CDG3|VCIP1',\n",
       " 'Q9D154|ILEUA',\n",
       " 'Q6PFD5|DLGP3',\n",
       " 'Q9D6Z1|NOP56',\n",
       " 'Q61234|SNTA1',\n",
       " 'P14106|C1QB',\n",
       " 'Q9QZF2|GPC1',\n",
       " 'Q61696|HS71A',\n",
       " 'O88910|MPP3',\n",
       " 'P51655|GPC4',\n",
       " 'Q80U49|C170B',\n",
       " 'P97390|VPS45']"
      ]
     },
     "execution_count": 29,
     "metadata": {},
     "output_type": "execute_result"
    }
   ],
   "source": [
    "proteins_up = list(proteins)[:50]\n",
    "proteins_up"
   ]
  },
  {
   "cell_type": "code",
   "execution_count": 30,
   "metadata": {},
   "outputs": [
    {
     "data": {
      "text/plain": [
       "['Q8CHC4|SYNJ1',\n",
       " 'Q8R1Q8|DC1L1',\n",
       " 'P18760|COF1',\n",
       " 'P19783|COX41',\n",
       " 'Q64433|CH10',\n",
       " 'Q60864|STIP1',\n",
       " 'Q61990|PCBP2',\n",
       " 'Q9CZU6|CISY',\n",
       " 'P28271|ACOC',\n",
       " 'O35864|CSN5',\n",
       " 'Q9D6J6|NDUV2',\n",
       " 'Q9CQM9|GLRX3',\n",
       " 'Q8BFR5|EFTU',\n",
       " 'Q8R0A7|K0513',\n",
       " 'Q9CZM2|RL15',\n",
       " 'P61089|UBE2N',\n",
       " 'P50396|GDIA',\n",
       " 'P12970|RL7A',\n",
       " 'P34884|MIF',\n",
       " 'Q9DCT2|NDUS3',\n",
       " 'P10126|EF1A1',\n",
       " 'Q91XM9|DLG2',\n",
       " 'Q62420|SH3G2',\n",
       " 'P35803|GPM6B',\n",
       " 'P47708|RP3A',\n",
       " 'Q8C8R3|ANK2',\n",
       " 'P62259|1433E',\n",
       " 'Q8CIE6|COPA',\n",
       " 'P17183|ENOG',\n",
       " 'P63038|CH60',\n",
       " 'P97461|RS5',\n",
       " 'P13595|NCAM1',\n",
       " 'Q91V12|BACH',\n",
       " 'Q8BMF4|ODP2',\n",
       " 'P08249|MDHM',\n",
       " 'Q8C419|GP158',\n",
       " 'P48318|DCE1',\n",
       " 'Q8QZT1|THIL',\n",
       " 'Q99LD4|CSN1',\n",
       " 'Q9DCS9|NDUBA',\n",
       " 'P08113|ENPL',\n",
       " 'Q9DB77|QCR2',\n",
       " 'P46638|RB11B',\n",
       " 'Q99L47|F10A1',\n",
       " 'Q61081|CDC37',\n",
       " 'Q9JKC6|CEND',\n",
       " 'Q62425|NDUA4',\n",
       " 'Q8JZU2|TXTP',\n",
       " 'Q61735|CD47',\n",
       " 'P35283|RAB12']"
      ]
     },
     "execution_count": 30,
     "metadata": {},
     "output_type": "execute_result"
    }
   ],
   "source": [
    "proteins_down = list(proteins)[-50:]\n",
    "proteins_down"
   ]
  },
  {
   "cell_type": "code",
   "execution_count": null,
   "metadata": {},
   "outputs": [],
   "source": []
  }
 ],
 "metadata": {
  "kernelspec": {
   "display_name": "jowo",
   "language": "python",
   "name": "python3"
  },
  "language_info": {
   "codemirror_mode": {
    "name": "ipython",
    "version": 3
   },
   "file_extension": ".py",
   "mimetype": "text/x-python",
   "name": "python",
   "nbconvert_exporter": "python",
   "pygments_lexer": "ipython3",
   "version": "3.7.15"
  },
  "orig_nbformat": 4,
  "vscode": {
   "interpreter": {
    "hash": "eb397056775ee1e1da1678ce3fc5b9c62da8c2e2c6ebdf0dda0cd4d5f63a0bbb"
   }
  }
 },
 "nbformat": 4,
 "nbformat_minor": 2
}
